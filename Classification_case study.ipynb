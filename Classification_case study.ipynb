{
 "cells": [
  {
   "cell_type": "markdown",
   "metadata": {
    "_cell_guid": "bfca2f2a-d078-4f0a-ad8a-3d3571a08f76",
    "_execution_state": "idle",
    "_uuid": "e5e4b5ee88062058ceff62de7993eac563c1582b",
    "id": "FGe7zwI8dik1"
   },
   "source": [
    "First, we need to load all of our libraries we will use for this project."
   ]
  },
  {
   "cell_type": "code",
   "execution_count": null,
   "metadata": {
    "_cell_guid": "9201e3be-d4ec-4e38-9e7b-eb7bf54d7c25",
    "_execution_state": "idle",
    "_uuid": "de4cbbff6d2b51eb47a5a4719da64cd27804989d",
    "id": "wph85x1SdilM"
   },
   "outputs": [],
   "source": [
    "import pandas as pd\n",
    "import numpy as np\n",
    "import matplotlib.pyplot as plt\n",
    "import seaborn as sns\n",
    "%matplotlib inline\n",
    "from collections import Counter\n",
    "from sklearn.ensemble import RandomForestClassifier, AdaBoostClassifier, GradientBoostingClassifier, ExtraTreesClassifier, VotingClassifier\n",
    "from sklearn.discriminant_analysis import LinearDiscriminantAnalysis\n",
    "from sklearn.linear_model import LogisticRegression\n",
    "from sklearn.neighbors import KNeighborsClassifier\n",
    "from sklearn.tree import DecisionTreeClassifier\n",
    "from sklearn.neural_network import MLPClassifier\n",
    "from sklearn.naive_bayes import GaussianNB\n",
    "from sklearn.ensemble import RandomForestClassifier\n",
    "from sklearn.model_selection import GridSearchCV, cross_val_score, StratifiedKFold, learning_curve, train_test_split, KFold\n",
    "from sklearn.metrics import classification_report\n",
    "from sklearn.metrics import confusion_matrix\n",
    "from sklearn.metrics import accuracy_score\n",
    "import warnings\n",
    "warnings.filterwarnings(\"ignore\")\n",
    "sns.set(style='white', context='notebook', palette='deep')"
   ]
  },
  {
   "cell_type": "code",
   "execution_count": null,
   "metadata": {
    "_cell_guid": "946806b5-f230-4216-b42e-a8358e51b605",
    "_execution_state": "idle",
    "_uuid": "c4141c604b71fa95c187aa09fe7bed39106fcb1d",
    "id": "hfgG3FnpdilQ",
    "outputId": "b60dbe9f-4a57-41fb-e950-eb47bf27c8dc",
    "scrolled": true
   },
   "outputs": [
    {
     "data": {
      "text/html": [
       "<div>\n",
       "<style scoped>\n",
       "    .dataframe tbody tr th:only-of-type {\n",
       "        vertical-align: middle;\n",
       "    }\n",
       "\n",
       "    .dataframe tbody tr th {\n",
       "        vertical-align: top;\n",
       "    }\n",
       "\n",
       "    .dataframe thead th {\n",
       "        text-align: right;\n",
       "    }\n",
       "</style>\n",
       "<table border=\"1\" class=\"dataframe\">\n",
       "  <thead>\n",
       "    <tr style=\"text-align: right;\">\n",
       "      <th></th>\n",
       "      <th>age</th>\n",
       "      <th>workclass</th>\n",
       "      <th>education</th>\n",
       "      <th>education-num</th>\n",
       "      <th>marital-status</th>\n",
       "      <th>occupation</th>\n",
       "      <th>relationship</th>\n",
       "      <th>race</th>\n",
       "      <th>sex</th>\n",
       "      <th>capital-gain</th>\n",
       "      <th>capital-loss</th>\n",
       "      <th>hours-per-week</th>\n",
       "      <th>native-country</th>\n",
       "      <th>Expense</th>\n",
       "    </tr>\n",
       "  </thead>\n",
       "  <tbody>\n",
       "    <tr>\n",
       "      <th>0</th>\n",
       "      <td>39</td>\n",
       "      <td>Self-emp-inc</td>\n",
       "      <td>Bachelors</td>\n",
       "      <td>13</td>\n",
       "      <td>Married-civ-spouse</td>\n",
       "      <td>Exec-managerial</td>\n",
       "      <td>Husband</td>\n",
       "      <td>White</td>\n",
       "      <td>Male</td>\n",
       "      <td>15024</td>\n",
       "      <td>0</td>\n",
       "      <td>50</td>\n",
       "      <td>United-States</td>\n",
       "      <td>&gt;50K</td>\n",
       "    </tr>\n",
       "    <tr>\n",
       "      <th>1</th>\n",
       "      <td>20</td>\n",
       "      <td>Private</td>\n",
       "      <td>Some-college</td>\n",
       "      <td>10</td>\n",
       "      <td>Never-married</td>\n",
       "      <td>Other-service</td>\n",
       "      <td>Own-child</td>\n",
       "      <td>White</td>\n",
       "      <td>Male</td>\n",
       "      <td>0</td>\n",
       "      <td>0</td>\n",
       "      <td>40</td>\n",
       "      <td>United-States</td>\n",
       "      <td>&lt;=50K</td>\n",
       "    </tr>\n",
       "    <tr>\n",
       "      <th>2</th>\n",
       "      <td>50</td>\n",
       "      <td>Private</td>\n",
       "      <td>Doctorate</td>\n",
       "      <td>16</td>\n",
       "      <td>Married-civ-spouse</td>\n",
       "      <td>Prof-specialty</td>\n",
       "      <td>Husband</td>\n",
       "      <td>White</td>\n",
       "      <td>Male</td>\n",
       "      <td>0</td>\n",
       "      <td>1902</td>\n",
       "      <td>65</td>\n",
       "      <td>United-States</td>\n",
       "      <td>&gt;50K</td>\n",
       "    </tr>\n",
       "    <tr>\n",
       "      <th>3</th>\n",
       "      <td>38</td>\n",
       "      <td>State-gov</td>\n",
       "      <td>HS-grad</td>\n",
       "      <td>9</td>\n",
       "      <td>Married-civ-spouse</td>\n",
       "      <td>Prof-specialty</td>\n",
       "      <td>Wife</td>\n",
       "      <td>White</td>\n",
       "      <td>Female</td>\n",
       "      <td>0</td>\n",
       "      <td>0</td>\n",
       "      <td>40</td>\n",
       "      <td>United-States</td>\n",
       "      <td>&gt;50K</td>\n",
       "    </tr>\n",
       "    <tr>\n",
       "      <th>4</th>\n",
       "      <td>23</td>\n",
       "      <td>Local-gov</td>\n",
       "      <td>Bachelors</td>\n",
       "      <td>13</td>\n",
       "      <td>Never-married</td>\n",
       "      <td>Prof-specialty</td>\n",
       "      <td>Own-child</td>\n",
       "      <td>White</td>\n",
       "      <td>Female</td>\n",
       "      <td>0</td>\n",
       "      <td>0</td>\n",
       "      <td>60</td>\n",
       "      <td>United-States</td>\n",
       "      <td>&lt;=50K</td>\n",
       "    </tr>\n",
       "  </tbody>\n",
       "</table>\n",
       "</div>"
      ],
      "text/plain": [
       "   age      workclass      education  education-num       marital-status  \\\n",
       "0   39   Self-emp-inc      Bachelors             13   Married-civ-spouse   \n",
       "1   20        Private   Some-college             10        Never-married   \n",
       "2   50        Private      Doctorate             16   Married-civ-spouse   \n",
       "3   38      State-gov        HS-grad              9   Married-civ-spouse   \n",
       "4   23      Local-gov      Bachelors             13        Never-married   \n",
       "\n",
       "         occupation relationship    race      sex  capital-gain  capital-loss  \\\n",
       "0   Exec-managerial      Husband   White     Male         15024             0   \n",
       "1     Other-service    Own-child   White     Male             0             0   \n",
       "2    Prof-specialty      Husband   White     Male             0          1902   \n",
       "3    Prof-specialty         Wife   White   Female             0             0   \n",
       "4    Prof-specialty    Own-child   White   Female             0             0   \n",
       "\n",
       "   hours-per-week  native-country Expense  \n",
       "0              50   United-States    >50K  \n",
       "1              40   United-States   <=50K  \n",
       "2              65   United-States    >50K  \n",
       "3              40   United-States    >50K  \n",
       "4              60   United-States   <=50K  "
      ]
     },
     "execution_count": 2,
     "metadata": {
      "tags": []
     },
     "output_type": "execute_result"
    }
   ],
   "source": [
    "dataset = pd.read_csv(\"Expense.csv\")\n",
    "dataset.head()"
   ]
  },
  {
   "cell_type": "markdown",
   "metadata": {
    "_cell_guid": "960b99a1-4408-4c1a-b86b-788c17e3b18b",
    "_execution_state": "idle",
    "_uuid": "0ecc4df26f5b56f9bfc4ed1841a73c8aafa00837",
    "id": "rFD5dQBSdilU"
   },
   "source": [
    "Next, we load our data."
   ]
  },
  {
   "cell_type": "code",
   "execution_count": null,
   "metadata": {
    "id": "k3LqlVF_dilU",
    "outputId": "d7dd29f5-e9d3-4c4b-d89e-f5e7e7e6ebb2"
   },
   "outputs": [
    {
     "data": {
      "text/plain": [
       "(5000, 14)"
      ]
     },
     "execution_count": 3,
     "metadata": {
      "tags": []
     },
     "output_type": "execute_result"
    }
   ],
   "source": [
    "dataset.shape"
   ]
  },
  {
   "cell_type": "code",
   "execution_count": null,
   "metadata": {
    "_cell_guid": "86a2ec1f-d7e8-4f29-a949-68240fe69d87",
    "_execution_state": "idle",
    "_uuid": "68a3687580bd65fb09a100d49cecfe1774df79dc",
    "id": "dEOEBQgpdilf",
    "outputId": "33a427df-67ac-497f-c94c-30432775d2a1",
    "scrolled": true
   },
   "outputs": [
    {
     "name": "stdout",
     "output_type": "stream",
     "text": [
      "<class 'pandas.core.frame.DataFrame'>\n",
      "RangeIndex: 5000 entries, 0 to 4999\n",
      "Data columns (total 14 columns):\n",
      " #   Column          Non-Null Count  Dtype \n",
      "---  ------          --------------  ----- \n",
      " 0   age             5000 non-null   int64 \n",
      " 1   workclass       5000 non-null   object\n",
      " 2   education       5000 non-null   object\n",
      " 3   education-num   5000 non-null   int64 \n",
      " 4   marital-status  5000 non-null   object\n",
      " 5   occupation      5000 non-null   object\n",
      " 6   relationship    5000 non-null   object\n",
      " 7   race            5000 non-null   object\n",
      " 8   sex             5000 non-null   object\n",
      " 9   capital-gain    5000 non-null   int64 \n",
      " 10  capital-loss    5000 non-null   int64 \n",
      " 11  hours-per-week  5000 non-null   int64 \n",
      " 12  native-country  5000 non-null   object\n",
      " 13  Expense         5000 non-null   object\n",
      "dtypes: int64(5), object(9)\n",
      "memory usage: 547.0+ KB\n"
     ]
    }
   ],
   "source": [
    "dataset.info()"
   ]
  },
  {
   "cell_type": "markdown",
   "metadata": {
    "id": "0NknGfK0dilg"
   },
   "source": [
    "* Summary of the dataset shows that there are no missing values. But the preview shows that the dataset contains values coded as `?`. So, I will encode `?` as NaN values."
   ]
  },
  {
   "cell_type": "code",
   "execution_count": null,
   "metadata": {
    "id": "BzP96YJ9dili",
    "outputId": "baebcd68-57cb-4112-fb0b-200d77be9255"
   },
   "outputs": [
    {
     "data": {
      "text/html": [
       "<div>\n",
       "<style scoped>\n",
       "    .dataframe tbody tr th:only-of-type {\n",
       "        vertical-align: middle;\n",
       "    }\n",
       "\n",
       "    .dataframe tbody tr th {\n",
       "        vertical-align: top;\n",
       "    }\n",
       "\n",
       "    .dataframe thead th {\n",
       "        text-align: right;\n",
       "    }\n",
       "</style>\n",
       "<table border=\"1\" class=\"dataframe\">\n",
       "  <thead>\n",
       "    <tr style=\"text-align: right;\">\n",
       "      <th></th>\n",
       "      <th>age</th>\n",
       "      <th>education-num</th>\n",
       "      <th>capital-gain</th>\n",
       "      <th>capital-loss</th>\n",
       "      <th>hours-per-week</th>\n",
       "    </tr>\n",
       "  </thead>\n",
       "  <tbody>\n",
       "    <tr>\n",
       "      <th>count</th>\n",
       "      <td>5000.000000</td>\n",
       "      <td>5000.000000</td>\n",
       "      <td>5000.000000</td>\n",
       "      <td>5000.000000</td>\n",
       "      <td>5000.000000</td>\n",
       "    </tr>\n",
       "    <tr>\n",
       "      <th>mean</th>\n",
       "      <td>38.656000</td>\n",
       "      <td>10.065000</td>\n",
       "      <td>1104.080000</td>\n",
       "      <td>90.032800</td>\n",
       "      <td>40.566200</td>\n",
       "    </tr>\n",
       "    <tr>\n",
       "      <th>std</th>\n",
       "      <td>13.698292</td>\n",
       "      <td>2.558141</td>\n",
       "      <td>7579.674371</td>\n",
       "      <td>404.168991</td>\n",
       "      <td>12.154191</td>\n",
       "    </tr>\n",
       "    <tr>\n",
       "      <th>min</th>\n",
       "      <td>17.000000</td>\n",
       "      <td>1.000000</td>\n",
       "      <td>0.000000</td>\n",
       "      <td>0.000000</td>\n",
       "      <td>1.000000</td>\n",
       "    </tr>\n",
       "    <tr>\n",
       "      <th>25%</th>\n",
       "      <td>28.000000</td>\n",
       "      <td>9.000000</td>\n",
       "      <td>0.000000</td>\n",
       "      <td>0.000000</td>\n",
       "      <td>40.000000</td>\n",
       "    </tr>\n",
       "    <tr>\n",
       "      <th>50%</th>\n",
       "      <td>37.000000</td>\n",
       "      <td>10.000000</td>\n",
       "      <td>0.000000</td>\n",
       "      <td>0.000000</td>\n",
       "      <td>40.000000</td>\n",
       "    </tr>\n",
       "    <tr>\n",
       "      <th>75%</th>\n",
       "      <td>48.000000</td>\n",
       "      <td>12.000000</td>\n",
       "      <td>0.000000</td>\n",
       "      <td>0.000000</td>\n",
       "      <td>45.000000</td>\n",
       "    </tr>\n",
       "    <tr>\n",
       "      <th>max</th>\n",
       "      <td>90.000000</td>\n",
       "      <td>16.000000</td>\n",
       "      <td>99999.000000</td>\n",
       "      <td>3004.000000</td>\n",
       "      <td>99.000000</td>\n",
       "    </tr>\n",
       "  </tbody>\n",
       "</table>\n",
       "</div>"
      ],
      "text/plain": [
       "               age  education-num  capital-gain  capital-loss  hours-per-week\n",
       "count  5000.000000    5000.000000   5000.000000   5000.000000     5000.000000\n",
       "mean     38.656000      10.065000   1104.080000     90.032800       40.566200\n",
       "std      13.698292       2.558141   7579.674371    404.168991       12.154191\n",
       "min      17.000000       1.000000      0.000000      0.000000        1.000000\n",
       "25%      28.000000       9.000000      0.000000      0.000000       40.000000\n",
       "50%      37.000000      10.000000      0.000000      0.000000       40.000000\n",
       "75%      48.000000      12.000000      0.000000      0.000000       45.000000\n",
       "max      90.000000      16.000000  99999.000000   3004.000000       99.000000"
      ]
     },
     "execution_count": 5,
     "metadata": {
      "tags": []
     },
     "output_type": "execute_result"
    }
   ],
   "source": [
    "dataset.describe()"
   ]
  },
  {
   "cell_type": "code",
   "execution_count": null,
   "metadata": {
    "id": "BIOsdgKudilk",
    "outputId": "3fa84923-08e9-47a1-ab03-3bb7bf3ab0f6"
   },
   "outputs": [
    {
     "name": "stdout",
     "output_type": "stream",
     "text": [
      "Number of catedgories in  workclass is  9\n",
      "Frequency of each categories in  workclass is   Private             0.6888\n",
      " Self-emp-not-inc    0.0770\n",
      " ?                   0.0640\n",
      " Local-gov           0.0636\n",
      " State-gov           0.0398\n",
      " Self-emp-inc        0.0368\n",
      " Federal-gov         0.0296\n",
      " Without-pay         0.0002\n",
      " Never-worked        0.0002\n",
      "Name: workclass, dtype: float64\n",
      "Number of catedgories in  education is  16\n",
      "Frequency of each categories in  education is   HS-grad         0.3204\n",
      " Some-college    0.2284\n",
      " Bachelors       0.1646\n",
      " Masters         0.0518\n",
      " Assoc-voc       0.0428\n",
      " 11th            0.0358\n",
      " Assoc-acdm      0.0314\n",
      " 10th            0.0312\n",
      " 7th-8th         0.0210\n",
      " Prof-school     0.0180\n",
      " 9th             0.0168\n",
      " 12th            0.0114\n",
      " Doctorate       0.0112\n",
      " 5th-6th         0.0092\n",
      " 1st-4th         0.0050\n",
      " Preschool       0.0010\n",
      "Name: education, dtype: float64\n",
      "Number of catedgories in  marital-status is  7\n",
      "Frequency of each categories in  marital-status is   Married-civ-spouse       0.4588\n",
      " Never-married            0.3286\n",
      " Divorced                 0.1366\n",
      " Separated                0.0318\n",
      " Widowed                  0.0300\n",
      " Married-spouse-absent    0.0134\n",
      " Married-AF-spouse        0.0008\n",
      "Name: marital-status, dtype: float64\n",
      "Number of catedgories in  occupation is  15\n",
      "Frequency of each categories in  occupation is   Craft-repair         0.1260\n",
      " Prof-specialty       0.1238\n",
      " Exec-managerial      0.1218\n",
      " Sales                0.1194\n",
      " Adm-clerical         0.1176\n",
      " Other-service        0.0978\n",
      " Machine-op-inspct    0.0646\n",
      " ?                    0.0642\n",
      " Transport-moving     0.0502\n",
      " Handlers-cleaners    0.0382\n",
      " Farming-fishing      0.0280\n",
      " Tech-support         0.0244\n",
      " Protective-serv      0.0198\n",
      " Priv-house-serv      0.0040\n",
      " Armed-Forces         0.0002\n",
      "Name: occupation, dtype: float64\n",
      "Number of catedgories in  relationship is  6\n",
      "Frequency of each categories in  relationship is   Husband           0.4052\n",
      " Not-in-family     0.2524\n",
      " Own-child         0.1594\n",
      " Unmarried         0.1024\n",
      " Wife              0.0484\n",
      " Other-relative    0.0322\n",
      "Name: relationship, dtype: float64\n",
      "Number of catedgories in  race is  5\n",
      "Frequency of each categories in  race is   White                 0.8542\n",
      " Black                 0.0980\n",
      " Asian-Pac-Islander    0.0306\n",
      " Amer-Indian-Eskimo    0.0102\n",
      " Other                 0.0070\n",
      "Name: race, dtype: float64\n",
      "Number of catedgories in  sex is  2\n",
      "Frequency of each categories in  sex is   Male      0.6748\n",
      " Female    0.3252\n",
      "Name: sex, dtype: float64\n",
      "Number of catedgories in  native-country is  40\n",
      "Frequency of each categories in  native-country is   United-States                 0.8918\n",
      " Mexico                        0.0204\n",
      " ?                             0.0196\n",
      " Canada                        0.0062\n",
      " Germany                       0.0050\n",
      " Philippines                   0.0044\n",
      " Puerto-Rico                   0.0034\n",
      " El-Salvador                   0.0034\n",
      " England                       0.0032\n",
      " China                         0.0032\n",
      " Cuba                          0.0030\n",
      " Jamaica                       0.0028\n",
      " Dominican-Republic            0.0026\n",
      " Vietnam                       0.0024\n",
      " Japan                         0.0024\n",
      " Poland                        0.0022\n",
      " Italy                         0.0022\n",
      " Taiwan                        0.0020\n",
      " India                         0.0020\n",
      " Guatemala                     0.0020\n",
      " South                         0.0018\n",
      " Iran                          0.0018\n",
      " Greece                        0.0018\n",
      " Ireland                       0.0010\n",
      " Columbia                      0.0010\n",
      " Haiti                         0.0010\n",
      " Nicaragua                     0.0010\n",
      " Portugal                      0.0008\n",
      " Cambodia                      0.0008\n",
      " Trinadad&Tobago               0.0008\n",
      " Peru                          0.0006\n",
      " Ecuador                       0.0006\n",
      " Outlying-US(Guam-USVI-etc)    0.0006\n",
      " Yugoslavia                    0.0004\n",
      " Scotland                      0.0004\n",
      " Laos                          0.0004\n",
      " France                        0.0004\n",
      " Honduras                      0.0002\n",
      " Hong                          0.0002\n",
      " Thailand                      0.0002\n",
      "Name: native-country, dtype: float64\n",
      "Number of catedgories in  Expense is  2\n",
      "Frequency of each categories in  Expense is   <=50K    0.7552\n",
      " >50K     0.2448\n",
      "Name: Expense, dtype: float64\n"
     ]
    }
   ],
   "source": [
    "for i in range(dataset.shape[1]):\n",
    "    if (dataset.iloc[:,i].dtype == 'object') or (dataset.iloc[:,i].dtype =='int32'):\n",
    "        print(\"Number of catedgories in \" , dataset.columns[i] , \"is \" , len(dataset.iloc[:,i].unique()))\n",
    "        print(\"Frequency of each categories in \" , dataset.columns[i] , \"is \" , dataset.iloc[:,i].value_counts()/len(dataset.iloc[:,i]))"
   ]
  },
  {
   "cell_type": "code",
   "execution_count": null,
   "metadata": {
    "id": "Ltvz3xKadilm"
   },
   "outputs": [],
   "source": [
    "dataset[dataset == ' ?'] = np.nan"
   ]
  },
  {
   "cell_type": "code",
   "execution_count": null,
   "metadata": {
    "id": "P2dJOOETdilm",
    "outputId": "b0bdd347-e43c-4f21-d002-488361e833ae"
   },
   "outputs": [
    {
     "data": {
      "text/plain": [
       "age                 0\n",
       "workclass         320\n",
       "education           0\n",
       "education-num       0\n",
       "marital-status      0\n",
       "occupation        321\n",
       "relationship        0\n",
       "race                0\n",
       "sex                 0\n",
       "capital-gain        0\n",
       "capital-loss        0\n",
       "hours-per-week      0\n",
       "native-country     98\n",
       "Expense             0\n",
       "dtype: int64"
      ]
     },
     "execution_count": 8,
     "metadata": {
      "tags": []
     },
     "output_type": "execute_result"
    }
   ],
   "source": [
    "dataset.isnull().sum()"
   ]
  },
  {
   "cell_type": "code",
   "execution_count": null,
   "metadata": {
    "id": "YDhbtcPQdilo",
    "outputId": "7014bcd4-7feb-45a0-e838-4ff655db1828"
   },
   "outputs": [
    {
     "name": "stdout",
     "output_type": "stream",
     "text": [
      "Percentage of Null value in  age is  0.0\n",
      "Percentage of Null value in  workclass is  0.064\n",
      "Percentage of Null value in  education is  0.0\n",
      "Percentage of Null value in  education-num is  0.0\n",
      "Percentage of Null value in  marital-status is  0.0\n",
      "Percentage of Null value in  occupation is  0.0642\n",
      "Percentage of Null value in  relationship is  0.0\n",
      "Percentage of Null value in  race is  0.0\n",
      "Percentage of Null value in  sex is  0.0\n",
      "Percentage of Null value in  capital-gain is  0.0\n",
      "Percentage of Null value in  capital-loss is  0.0\n",
      "Percentage of Null value in  hours-per-week is  0.0\n",
      "Percentage of Null value in  native-country is  0.0196\n",
      "Percentage of Null value in  Expense is  0.0\n"
     ]
    }
   ],
   "source": [
    "for i in range(dataset.shape[1]):\n",
    "    print(\"Percentage of Null value in \" , dataset.columns[i] , \"is \" , (dataset.iloc[:,i].isnull().sum())/dataset.shape[0])"
   ]
  },
  {
   "cell_type": "markdown",
   "metadata": {
    "id": "sbfMtooVdilq"
   },
   "source": [
    "* Encode ? as NaNs"
   ]
  },
  {
   "cell_type": "code",
   "execution_count": null,
   "metadata": {
    "id": "fuh5EJdWdilr"
   },
   "outputs": [],
   "source": [
    "dataset[dataset == ' ?'] = np.nan"
   ]
  },
  {
   "cell_type": "code",
   "execution_count": null,
   "metadata": {
    "id": "8MxzNTj3dils",
    "outputId": "36377d78-e531-41e7-af90-b222a3e8904b"
   },
   "outputs": [
    {
     "data": {
      "text/html": [
       "<div>\n",
       "<style scoped>\n",
       "    .dataframe tbody tr th:only-of-type {\n",
       "        vertical-align: middle;\n",
       "    }\n",
       "\n",
       "    .dataframe tbody tr th {\n",
       "        vertical-align: top;\n",
       "    }\n",
       "\n",
       "    .dataframe thead th {\n",
       "        text-align: right;\n",
       "    }\n",
       "</style>\n",
       "<table border=\"1\" class=\"dataframe\">\n",
       "  <thead>\n",
       "    <tr style=\"text-align: right;\">\n",
       "      <th></th>\n",
       "      <th>age</th>\n",
       "      <th>workclass</th>\n",
       "      <th>education</th>\n",
       "      <th>education-num</th>\n",
       "      <th>marital-status</th>\n",
       "      <th>occupation</th>\n",
       "      <th>relationship</th>\n",
       "      <th>race</th>\n",
       "      <th>sex</th>\n",
       "      <th>capital-gain</th>\n",
       "      <th>capital-loss</th>\n",
       "      <th>hours-per-week</th>\n",
       "      <th>native-country</th>\n",
       "      <th>Expense</th>\n",
       "    </tr>\n",
       "  </thead>\n",
       "  <tbody>\n",
       "    <tr>\n",
       "      <th>0</th>\n",
       "      <td>NaN</td>\n",
       "      <td>NaN</td>\n",
       "      <td>NaN</td>\n",
       "      <td>NaN</td>\n",
       "      <td>NaN</td>\n",
       "      <td>NaN</td>\n",
       "      <td>NaN</td>\n",
       "      <td>NaN</td>\n",
       "      <td>NaN</td>\n",
       "      <td>NaN</td>\n",
       "      <td>NaN</td>\n",
       "      <td>NaN</td>\n",
       "      <td>NaN</td>\n",
       "      <td>NaN</td>\n",
       "    </tr>\n",
       "    <tr>\n",
       "      <th>1</th>\n",
       "      <td>NaN</td>\n",
       "      <td>NaN</td>\n",
       "      <td>NaN</td>\n",
       "      <td>NaN</td>\n",
       "      <td>NaN</td>\n",
       "      <td>NaN</td>\n",
       "      <td>NaN</td>\n",
       "      <td>NaN</td>\n",
       "      <td>NaN</td>\n",
       "      <td>NaN</td>\n",
       "      <td>NaN</td>\n",
       "      <td>NaN</td>\n",
       "      <td>NaN</td>\n",
       "      <td>NaN</td>\n",
       "    </tr>\n",
       "    <tr>\n",
       "      <th>2</th>\n",
       "      <td>NaN</td>\n",
       "      <td>NaN</td>\n",
       "      <td>NaN</td>\n",
       "      <td>NaN</td>\n",
       "      <td>NaN</td>\n",
       "      <td>NaN</td>\n",
       "      <td>NaN</td>\n",
       "      <td>NaN</td>\n",
       "      <td>NaN</td>\n",
       "      <td>NaN</td>\n",
       "      <td>NaN</td>\n",
       "      <td>NaN</td>\n",
       "      <td>NaN</td>\n",
       "      <td>NaN</td>\n",
       "    </tr>\n",
       "    <tr>\n",
       "      <th>3</th>\n",
       "      <td>NaN</td>\n",
       "      <td>NaN</td>\n",
       "      <td>NaN</td>\n",
       "      <td>NaN</td>\n",
       "      <td>NaN</td>\n",
       "      <td>NaN</td>\n",
       "      <td>NaN</td>\n",
       "      <td>NaN</td>\n",
       "      <td>NaN</td>\n",
       "      <td>NaN</td>\n",
       "      <td>NaN</td>\n",
       "      <td>NaN</td>\n",
       "      <td>NaN</td>\n",
       "      <td>NaN</td>\n",
       "    </tr>\n",
       "    <tr>\n",
       "      <th>4</th>\n",
       "      <td>NaN</td>\n",
       "      <td>NaN</td>\n",
       "      <td>NaN</td>\n",
       "      <td>NaN</td>\n",
       "      <td>NaN</td>\n",
       "      <td>NaN</td>\n",
       "      <td>NaN</td>\n",
       "      <td>NaN</td>\n",
       "      <td>NaN</td>\n",
       "      <td>NaN</td>\n",
       "      <td>NaN</td>\n",
       "      <td>NaN</td>\n",
       "      <td>NaN</td>\n",
       "      <td>NaN</td>\n",
       "    </tr>\n",
       "    <tr>\n",
       "      <th>...</th>\n",
       "      <td>...</td>\n",
       "      <td>...</td>\n",
       "      <td>...</td>\n",
       "      <td>...</td>\n",
       "      <td>...</td>\n",
       "      <td>...</td>\n",
       "      <td>...</td>\n",
       "      <td>...</td>\n",
       "      <td>...</td>\n",
       "      <td>...</td>\n",
       "      <td>...</td>\n",
       "      <td>...</td>\n",
       "      <td>...</td>\n",
       "      <td>...</td>\n",
       "    </tr>\n",
       "    <tr>\n",
       "      <th>4995</th>\n",
       "      <td>NaN</td>\n",
       "      <td>NaN</td>\n",
       "      <td>NaN</td>\n",
       "      <td>NaN</td>\n",
       "      <td>NaN</td>\n",
       "      <td>NaN</td>\n",
       "      <td>NaN</td>\n",
       "      <td>NaN</td>\n",
       "      <td>NaN</td>\n",
       "      <td>NaN</td>\n",
       "      <td>NaN</td>\n",
       "      <td>NaN</td>\n",
       "      <td>NaN</td>\n",
       "      <td>NaN</td>\n",
       "    </tr>\n",
       "    <tr>\n",
       "      <th>4996</th>\n",
       "      <td>NaN</td>\n",
       "      <td>NaN</td>\n",
       "      <td>NaN</td>\n",
       "      <td>NaN</td>\n",
       "      <td>NaN</td>\n",
       "      <td>NaN</td>\n",
       "      <td>NaN</td>\n",
       "      <td>NaN</td>\n",
       "      <td>NaN</td>\n",
       "      <td>NaN</td>\n",
       "      <td>NaN</td>\n",
       "      <td>NaN</td>\n",
       "      <td>NaN</td>\n",
       "      <td>NaN</td>\n",
       "    </tr>\n",
       "    <tr>\n",
       "      <th>4997</th>\n",
       "      <td>NaN</td>\n",
       "      <td>NaN</td>\n",
       "      <td>NaN</td>\n",
       "      <td>NaN</td>\n",
       "      <td>NaN</td>\n",
       "      <td>NaN</td>\n",
       "      <td>NaN</td>\n",
       "      <td>NaN</td>\n",
       "      <td>NaN</td>\n",
       "      <td>NaN</td>\n",
       "      <td>NaN</td>\n",
       "      <td>NaN</td>\n",
       "      <td>NaN</td>\n",
       "      <td>NaN</td>\n",
       "    </tr>\n",
       "    <tr>\n",
       "      <th>4998</th>\n",
       "      <td>NaN</td>\n",
       "      <td>NaN</td>\n",
       "      <td>NaN</td>\n",
       "      <td>NaN</td>\n",
       "      <td>NaN</td>\n",
       "      <td>NaN</td>\n",
       "      <td>NaN</td>\n",
       "      <td>NaN</td>\n",
       "      <td>NaN</td>\n",
       "      <td>NaN</td>\n",
       "      <td>NaN</td>\n",
       "      <td>NaN</td>\n",
       "      <td>NaN</td>\n",
       "      <td>NaN</td>\n",
       "    </tr>\n",
       "    <tr>\n",
       "      <th>4999</th>\n",
       "      <td>NaN</td>\n",
       "      <td>NaN</td>\n",
       "      <td>NaN</td>\n",
       "      <td>NaN</td>\n",
       "      <td>NaN</td>\n",
       "      <td>NaN</td>\n",
       "      <td>NaN</td>\n",
       "      <td>NaN</td>\n",
       "      <td>NaN</td>\n",
       "      <td>NaN</td>\n",
       "      <td>NaN</td>\n",
       "      <td>NaN</td>\n",
       "      <td>NaN</td>\n",
       "      <td>NaN</td>\n",
       "    </tr>\n",
       "  </tbody>\n",
       "</table>\n",
       "<p>5000 rows × 14 columns</p>\n",
       "</div>"
      ],
      "text/plain": [
       "      age workclass education  education-num marital-status occupation  \\\n",
       "0     NaN       NaN       NaN            NaN            NaN        NaN   \n",
       "1     NaN       NaN       NaN            NaN            NaN        NaN   \n",
       "2     NaN       NaN       NaN            NaN            NaN        NaN   \n",
       "3     NaN       NaN       NaN            NaN            NaN        NaN   \n",
       "4     NaN       NaN       NaN            NaN            NaN        NaN   \n",
       "...   ...       ...       ...            ...            ...        ...   \n",
       "4995  NaN       NaN       NaN            NaN            NaN        NaN   \n",
       "4996  NaN       NaN       NaN            NaN            NaN        NaN   \n",
       "4997  NaN       NaN       NaN            NaN            NaN        NaN   \n",
       "4998  NaN       NaN       NaN            NaN            NaN        NaN   \n",
       "4999  NaN       NaN       NaN            NaN            NaN        NaN   \n",
       "\n",
       "     relationship race  sex  capital-gain  capital-loss  hours-per-week  \\\n",
       "0             NaN  NaN  NaN           NaN           NaN             NaN   \n",
       "1             NaN  NaN  NaN           NaN           NaN             NaN   \n",
       "2             NaN  NaN  NaN           NaN           NaN             NaN   \n",
       "3             NaN  NaN  NaN           NaN           NaN             NaN   \n",
       "4             NaN  NaN  NaN           NaN           NaN             NaN   \n",
       "...           ...  ...  ...           ...           ...             ...   \n",
       "4995          NaN  NaN  NaN           NaN           NaN             NaN   \n",
       "4996          NaN  NaN  NaN           NaN           NaN             NaN   \n",
       "4997          NaN  NaN  NaN           NaN           NaN             NaN   \n",
       "4998          NaN  NaN  NaN           NaN           NaN             NaN   \n",
       "4999          NaN  NaN  NaN           NaN           NaN             NaN   \n",
       "\n",
       "     native-country Expense  \n",
       "0               NaN     NaN  \n",
       "1               NaN     NaN  \n",
       "2               NaN     NaN  \n",
       "3               NaN     NaN  \n",
       "4               NaN     NaN  \n",
       "...             ...     ...  \n",
       "4995            NaN     NaN  \n",
       "4996            NaN     NaN  \n",
       "4997            NaN     NaN  \n",
       "4998            NaN     NaN  \n",
       "4999            NaN     NaN  \n",
       "\n",
       "[5000 rows x 14 columns]"
      ]
     },
     "execution_count": 11,
     "metadata": {
      "tags": []
     },
     "output_type": "execute_result"
    }
   ],
   "source": [
    "dataset[dataset == ' ?']"
   ]
  },
  {
   "cell_type": "markdown",
   "metadata": {
    "id": "HaOFf8j7dilu"
   },
   "source": [
    "##### Again check the summary of dataframe"
   ]
  },
  {
   "cell_type": "code",
   "execution_count": null,
   "metadata": {
    "id": "TSpyiYszdilv",
    "outputId": "a1a170f9-e636-4814-d96e-cb2294e1d719"
   },
   "outputs": [
    {
     "name": "stdout",
     "output_type": "stream",
     "text": [
      "<class 'pandas.core.frame.DataFrame'>\n",
      "RangeIndex: 5000 entries, 0 to 4999\n",
      "Data columns (total 14 columns):\n",
      " #   Column          Non-Null Count  Dtype \n",
      "---  ------          --------------  ----- \n",
      " 0   age             5000 non-null   int64 \n",
      " 1   workclass       4680 non-null   object\n",
      " 2   education       5000 non-null   object\n",
      " 3   education-num   5000 non-null   int64 \n",
      " 4   marital-status  5000 non-null   object\n",
      " 5   occupation      4679 non-null   object\n",
      " 6   relationship    5000 non-null   object\n",
      " 7   race            5000 non-null   object\n",
      " 8   sex             5000 non-null   object\n",
      " 9   capital-gain    5000 non-null   int64 \n",
      " 10  capital-loss    5000 non-null   int64 \n",
      " 11  hours-per-week  5000 non-null   int64 \n",
      " 12  native-country  4902 non-null   object\n",
      " 13  Expense         5000 non-null   object\n",
      "dtypes: int64(5), object(9)\n",
      "memory usage: 547.0+ KB\n"
     ]
    }
   ],
   "source": [
    "dataset.info()"
   ]
  },
  {
   "cell_type": "markdown",
   "metadata": {
    "id": "SnLceU9Jdilw"
   },
   "source": [
    "* Now, the summary shows that the variables - workclass, occupation and native.country contain missing values. All of these variables are categorical data type. So, we will impute the missing values with the most frequent value- the mode."
   ]
  },
  {
   "cell_type": "code",
   "execution_count": null,
   "metadata": {
    "id": "-PqG0KQ7dily",
    "outputId": "68713b11-4621-4ba5-df49-dba02ae71ec3"
   },
   "outputs": [
    {
     "data": {
      "text/plain": [
       "Index(['age', 'workclass', 'education', 'education-num', 'marital-status',\n",
       "       'occupation', 'relationship', 'race', 'sex', 'capital-gain',\n",
       "       'capital-loss', 'hours-per-week', 'native-country', 'Expense'],\n",
       "      dtype='object')"
      ]
     },
     "execution_count": 13,
     "metadata": {
      "tags": []
     },
     "output_type": "execute_result"
    }
   ],
   "source": [
    "dataset.columns"
   ]
  },
  {
   "cell_type": "markdown",
   "metadata": {
    "id": "KQs20ZYQdilz"
   },
   "source": [
    "###### Do variables have outliers? \n"
   ]
  },
  {
   "cell_type": "code",
   "execution_count": null,
   "metadata": {
    "id": "Z9gxcCqGdil0",
    "outputId": "55e71617-e420-4f09-fcd1-9350fca0fbb3"
   },
   "outputs": [
    {
     "data": {
      "text/plain": [
       "<matplotlib.axes._subplots.AxesSubplot at 0x1e86d623a60>"
      ]
     },
     "execution_count": 14,
     "metadata": {
      "tags": []
     },
     "output_type": "execute_result"
    },
    {
     "data": {
      "image/png": "[encoded data removed]",
      "text/plain": [
       "<Figure size 1440x432 with 2 Axes>"
      ]
     },
     "metadata": {
      "tags": []
     },
     "output_type": "display_data"
    }
   ],
   "source": [
    "fig, (a,b)= plt.subplots(1,2,figsize=(20,6))\n",
    "sns.boxplot(y='hours-per-week',x='Expense',data=dataset,ax=a)\n",
    "sns.boxplot(y='age',x='Expense',data=dataset,ax=b)\n"
   ]
  },
  {
   "cell_type": "markdown",
   "metadata": {
    "id": "RTZDMlU6dil2"
   },
   "source": [
    "##### Target distributed evenly"
   ]
  },
  {
   "cell_type": "code",
   "execution_count": null,
   "metadata": {
    "id": "_8yWWWkvdil3",
    "outputId": "599a0d94-f513-42c5-f601-33b3c6efc1f7"
   },
   "outputs": [
    {
     "data": {
      "text/plain": [
       "array([' >50K', ' <=50K'], dtype=object)"
      ]
     },
     "execution_count": 15,
     "metadata": {
      "tags": []
     },
     "output_type": "execute_result"
    }
   ],
   "source": [
    "dataset['Expense'].unique()"
   ]
  },
  {
   "cell_type": "code",
   "execution_count": null,
   "metadata": {
    "id": "4UJwvmIUdil4"
   },
   "outputs": [],
   "source": [
    "dataset['Expense']=dataset['Expense'].map({' <=50K': 0, ' >50K': 1})"
   ]
  },
  {
   "cell_type": "code",
   "execution_count": null,
   "metadata": {
    "id": "ZXQHKTzZdil5",
    "outputId": "f50c36da-6c0c-4904-94ca-5a058d32572f"
   },
   "outputs": [
    {
     "data": {
      "text/plain": [
       "0    3776\n",
       "1    1224\n",
       "Name: Expense, dtype: int64"
      ]
     },
     "execution_count": 17,
     "metadata": {
      "tags": []
     },
     "output_type": "execute_result"
    }
   ],
   "source": [
    "dataset['Expense'].value_counts()"
   ]
  },
  {
   "cell_type": "code",
   "execution_count": null,
   "metadata": {
    "id": "Z0Z_pNNJdil7",
    "outputId": "504fc6dc-2f91-4779-b623-e4b3d459bdfa"
   },
   "outputs": [
    {
     "data": {
      "image/png": "[encoded data removed]",
      "text/plain": [
       "<Figure size 1080x504 with 2 Axes>"
      ]
     },
     "metadata": {
      "tags": []
     },
     "output_type": "display_data"
    }
   ],
   "source": [
    "f, ax = plt.subplots(1, 2, figsize = (15, 7))\n",
    "f.suptitle(\"Expense\", fontsize = 18.)\n",
    "_ = dataset.Expense.value_counts().plot.bar(ax = ax[0], rot = 0, color = (sns.color_palette()[0], sns.color_palette()[2])).set(xticklabels = [\" <=50K\", \" >50K\"])\n",
    "_ = dataset.Expense.value_counts().plot.pie(labels = (\" <=50K\", \" >50K\"), autopct = \"%.2f%%\", label = \"\", fontsize = 13., ax = ax[1],\\\n",
    "colors = (sns.color_palette()[0], sns.color_palette()[2]), wedgeprops = {\"linewidth\": 1.5, \"edgecolor\": \"#F7F7F7\"}), ax[1].texts[1].set_color(\"#F7F7F7\"), ax[1].texts[3].set_color(\"#F7F7F7\")"
   ]
  },
  {
   "cell_type": "markdown",
   "metadata": {
    "id": "tV8-QeQ1dil8"
   },
   "source": [
    "#### Impute missing values with mode"
   ]
  },
  {
   "cell_type": "code",
   "execution_count": null,
   "metadata": {
    "id": "wKjI_p3Ydil9"
   },
   "outputs": [],
   "source": [
    "for col in ['workclass', 'occupation', 'native-country']:\n",
    "    dataset[col].fillna(dataset[col].mode()[0], inplace=True)"
   ]
  },
  {
   "cell_type": "code",
   "execution_count": null,
   "metadata": {
    "id": "WBb4Qsk1dil9",
    "outputId": "930dd8ef-85fd-408f-a1a1-c9b297257c24"
   },
   "outputs": [
    {
     "data": {
      "text/plain": [
       "age               0\n",
       "workclass         0\n",
       "education         0\n",
       "education-num     0\n",
       "marital-status    0\n",
       "occupation        0\n",
       "relationship      0\n",
       "race              0\n",
       "sex               0\n",
       "capital-gain      0\n",
       "capital-loss      0\n",
       "hours-per-week    0\n",
       "native-country    0\n",
       "Expense           0\n",
       "dtype: int64"
      ]
     },
     "execution_count": 20,
     "metadata": {
      "tags": []
     },
     "output_type": "execute_result"
    }
   ],
   "source": [
    "dataset.isnull().sum()"
   ]
  },
  {
   "cell_type": "markdown",
   "metadata": {
    "id": "gwfjFHvAdil-"
   },
   "source": [
    "* Now we can see that there are no missing values in the dataset."
   ]
  },
  {
   "cell_type": "code",
   "execution_count": null,
   "metadata": {
    "id": "IMy9EruIdil_",
    "outputId": "8bf57a0d-c4ad-4364-ee55-b5c09dd8e99a"
   },
   "outputs": [
    {
     "data": {
      "text/html": [
       "<div>\n",
       "<style scoped>\n",
       "    .dataframe tbody tr th:only-of-type {\n",
       "        vertical-align: middle;\n",
       "    }\n",
       "\n",
       "    .dataframe tbody tr th {\n",
       "        vertical-align: top;\n",
       "    }\n",
       "\n",
       "    .dataframe thead th {\n",
       "        text-align: right;\n",
       "    }\n",
       "</style>\n",
       "<table border=\"1\" class=\"dataframe\">\n",
       "  <thead>\n",
       "    <tr style=\"text-align: right;\">\n",
       "      <th></th>\n",
       "      <th>age</th>\n",
       "      <th>workclass</th>\n",
       "      <th>education</th>\n",
       "      <th>education-num</th>\n",
       "      <th>marital-status</th>\n",
       "      <th>occupation</th>\n",
       "      <th>relationship</th>\n",
       "      <th>race</th>\n",
       "      <th>sex</th>\n",
       "      <th>capital-gain</th>\n",
       "      <th>capital-loss</th>\n",
       "      <th>hours-per-week</th>\n",
       "      <th>native-country</th>\n",
       "      <th>Expense</th>\n",
       "    </tr>\n",
       "  </thead>\n",
       "  <tbody>\n",
       "    <tr>\n",
       "      <th>2</th>\n",
       "      <td>50</td>\n",
       "      <td>Private</td>\n",
       "      <td>Doctorate</td>\n",
       "      <td>16</td>\n",
       "      <td>Married-civ-spouse</td>\n",
       "      <td>Prof-specialty</td>\n",
       "      <td>Husband</td>\n",
       "      <td>White</td>\n",
       "      <td>Male</td>\n",
       "      <td>0</td>\n",
       "      <td>1902</td>\n",
       "      <td>65</td>\n",
       "      <td>United-States</td>\n",
       "      <td>1</td>\n",
       "    </tr>\n",
       "    <tr>\n",
       "      <th>9</th>\n",
       "      <td>54</td>\n",
       "      <td>Self-emp-not-inc</td>\n",
       "      <td>HS-grad</td>\n",
       "      <td>9</td>\n",
       "      <td>Married-civ-spouse</td>\n",
       "      <td>Craft-repair</td>\n",
       "      <td>Husband</td>\n",
       "      <td>White</td>\n",
       "      <td>Male</td>\n",
       "      <td>15024</td>\n",
       "      <td>0</td>\n",
       "      <td>52</td>\n",
       "      <td>United-States</td>\n",
       "      <td>1</td>\n",
       "    </tr>\n",
       "    <tr>\n",
       "      <th>26</th>\n",
       "      <td>56</td>\n",
       "      <td>Private</td>\n",
       "      <td>HS-grad</td>\n",
       "      <td>9</td>\n",
       "      <td>Married-civ-spouse</td>\n",
       "      <td>Other-service</td>\n",
       "      <td>Husband</td>\n",
       "      <td>White</td>\n",
       "      <td>Male</td>\n",
       "      <td>0</td>\n",
       "      <td>0</td>\n",
       "      <td>50</td>\n",
       "      <td>Yugoslavia</td>\n",
       "      <td>0</td>\n",
       "    </tr>\n",
       "    <tr>\n",
       "      <th>54</th>\n",
       "      <td>52</td>\n",
       "      <td>Self-emp-not-inc</td>\n",
       "      <td>Some-college</td>\n",
       "      <td>10</td>\n",
       "      <td>Married-civ-spouse</td>\n",
       "      <td>Sales</td>\n",
       "      <td>Husband</td>\n",
       "      <td>White</td>\n",
       "      <td>Male</td>\n",
       "      <td>0</td>\n",
       "      <td>0</td>\n",
       "      <td>55</td>\n",
       "      <td>United-States</td>\n",
       "      <td>1</td>\n",
       "    </tr>\n",
       "    <tr>\n",
       "      <th>65</th>\n",
       "      <td>49</td>\n",
       "      <td>Private</td>\n",
       "      <td>Some-college</td>\n",
       "      <td>10</td>\n",
       "      <td>Married-civ-spouse</td>\n",
       "      <td>Sales</td>\n",
       "      <td>Husband</td>\n",
       "      <td>White</td>\n",
       "      <td>Male</td>\n",
       "      <td>0</td>\n",
       "      <td>0</td>\n",
       "      <td>80</td>\n",
       "      <td>United-States</td>\n",
       "      <td>1</td>\n",
       "    </tr>\n",
       "  </tbody>\n",
       "</table>\n",
       "</div>"
      ],
      "text/plain": [
       "    age          workclass      education  education-num       marital-status  \\\n",
       "2    50            Private      Doctorate             16   Married-civ-spouse   \n",
       "9    54   Self-emp-not-inc        HS-grad              9   Married-civ-spouse   \n",
       "26   56            Private        HS-grad              9   Married-civ-spouse   \n",
       "54   52   Self-emp-not-inc   Some-college             10   Married-civ-spouse   \n",
       "65   49            Private   Some-college             10   Married-civ-spouse   \n",
       "\n",
       "         occupation relationship    race    sex  capital-gain  capital-loss  \\\n",
       "2    Prof-specialty      Husband   White   Male             0          1902   \n",
       "9      Craft-repair      Husband   White   Male         15024             0   \n",
       "26    Other-service      Husband   White   Male             0             0   \n",
       "54            Sales      Husband   White   Male             0             0   \n",
       "65            Sales      Husband   White   Male             0             0   \n",
       "\n",
       "    hours-per-week  native-country  Expense  \n",
       "2               65   United-States        1  \n",
       "9               52   United-States        1  \n",
       "26              50      Yugoslavia        0  \n",
       "54              55   United-States        1  \n",
       "65              80   United-States        1  "
      ]
     },
     "execution_count": 21,
     "metadata": {
      "tags": []
     },
     "output_type": "execute_result"
    }
   ],
   "source": [
    "df1 = dataset[(dataset['hours-per-week']>dataset['hours-per-week'].quantile(0.75)) \n",
    "              & (dataset['age']> dataset['age'].quantile(0.75))]\n",
    "df1.head()"
   ]
  },
  {
   "cell_type": "code",
   "execution_count": null,
   "metadata": {
    "id": "cDhwsGyfdimA",
    "outputId": "31cbe584-3361-4cb1-9331-07b4e52c4ddc",
    "scrolled": true
   },
   "outputs": [
    {
     "data": {
      "text/plain": [
       "<matplotlib.axes._subplots.AxesSubplot at 0x1e86d7ddcd0>"
      ]
     },
     "execution_count": 22,
     "metadata": {
      "tags": []
     },
     "output_type": "execute_result"
    },
    {
     "data": {
      "image/png": "[encoded data removed]",
      "text/plain": [
       "<Figure size 1440x432 with 2 Axes>"
      ]
     },
     "metadata": {
      "tags": []
     },
     "output_type": "display_data"
    }
   ],
   "source": [
    "fig, (a,b)= plt.subplots(1,2,figsize=(20,6))\n",
    "sns.boxplot(y='hours-per-week',x='Expense',data=df1,ax=a)\n",
    "sns.boxplot(y='age',x='Expense',data=df1,ax=b)"
   ]
  },
  {
   "cell_type": "markdown",
   "metadata": {
    "id": "48vJaWn5dimB"
   },
   "source": [
    "We will resolve the problem of class distribution for target variable while splitting the data into training and test data."
   ]
  },
  {
   "cell_type": "markdown",
   "metadata": {
    "id": "RvRFG6KIdimC"
   },
   "source": [
    "#### Correlation Matrix for Numeric Data"
   ]
  },
  {
   "cell_type": "code",
   "execution_count": null,
   "metadata": {
    "id": "PaSJTmx8dimC",
    "outputId": "f7ae618c-f528-496f-9b7f-467043000127"
   },
   "outputs": [
    {
     "data": {
      "text/plain": [
       "<matplotlib.axes._subplots.AxesSubplot at 0x1e86ce507c0>"
      ]
     },
     "execution_count": 23,
     "metadata": {
      "tags": []
     },
     "output_type": "execute_result"
    },
    {
     "data": {
      "image/png": "[encoded data removed]",
      "text/plain": [
       "<Figure size 720x720 with 2 Axes>"
      ]
     },
     "metadata": {
      "tags": []
     },
     "output_type": "display_data"
    }
   ],
   "source": [
    "numeric_columns = ['age','hours-per-week','capital-gain','capital-loss']\n",
    "\n",
    "fig, axe = plt.subplots(figsize=(10,10))\n",
    "sns.set_context(\"poster\")\n",
    "sns.set(font_scale=2)\n",
    "map1 = sns.color_palette(\"RdBu_r\", 7)\n",
    "sns.heatmap(df1[numeric_columns].corr(),annot=True, fmt='.2f',linewidths=2,cmap = map1)"
   ]
  },
  {
   "cell_type": "markdown",
   "metadata": {
    "id": "YxcySC9VdimD"
   },
   "source": [
    "* The heatmap indicates that the \n",
    "Age , hours.per.week , capital.gain & capital.loss are independept of each other"
   ]
  },
  {
   "cell_type": "markdown",
   "metadata": {
    "_cell_guid": "f370f948-2810-48a9-b54f-b4c9c8ff851d",
    "_execution_state": "idle",
    "_uuid": "be23c9e7f4907134e69ca32b3e50de52e7f0a111",
    "id": "Mhzd31L-dimE"
   },
   "source": [
    "#### Feature Engineering"
   ]
  },
  {
   "cell_type": "code",
   "execution_count": null,
   "metadata": {
    "id": "czXA6gtddimF",
    "outputId": "31fd0f5e-c612-4029-cadc-c88d11aad7f8"
   },
   "outputs": [
    {
     "data": {
      "text/plain": [
       "Index(['age', 'workclass', 'education', 'education-num', 'marital-status',\n",
       "       'occupation', 'relationship', 'race', 'sex', 'capital-gain',\n",
       "       'capital-loss', 'hours-per-week', 'native-country', 'Expense'],\n",
       "      dtype='object')"
      ]
     },
     "execution_count": 24,
     "metadata": {
      "tags": []
     },
     "output_type": "execute_result"
    }
   ],
   "source": [
    "dataset.columns"
   ]
  },
  {
   "cell_type": "code",
   "execution_count": null,
   "metadata": {
    "id": "d9-kPKujdimG"
   },
   "outputs": [],
   "source": [
    "from sklearn.preprocessing import LabelEncoder\n",
    "label_encoder = LabelEncoder()\n",
    "dataset['occupation1'] = label_encoder.fit_transform(dataset.occupation)\n",
    "dataset['workclass1'] = label_encoder.fit_transform(dataset.workclass)\n",
    "dataset['relationship1'] = label_encoder.fit_transform(dataset.relationship)\n",
    "dataset['race1'] = label_encoder.fit_transform(dataset.race)\n",
    "dataset['native-country1'] = label_encoder.fit_transform(dataset['native-country'])\n",
    "dataset['sex'] = label_encoder.fit_transform(dataset['sex'])\n",
    "dataset['marital-status1'] = label_encoder.fit_transform(dataset['marital-status'])\n",
    "dataset['education1'] = label_encoder.fit_transform(dataset['education'])"
   ]
  },
  {
   "cell_type": "code",
   "execution_count": null,
   "metadata": {
    "id": "9pF59WlydimH"
   },
   "outputs": [],
   "source": [
    "dataset['marital-status1'] = label_encoder.fit_transform(dataset['marital-status'])\n",
    "dataset['education1'] = label_encoder.fit_transform(dataset['education'])"
   ]
  },
  {
   "cell_type": "code",
   "execution_count": null,
   "metadata": {
    "id": "AdYEThBmdimJ",
    "outputId": "5bf3c6ce-7763-49d8-d50a-f10ffa4955a2",
    "scrolled": true
   },
   "outputs": [
    {
     "data": {
      "text/html": [
       "<div>\n",
       "<style scoped>\n",
       "    .dataframe tbody tr th:only-of-type {\n",
       "        vertical-align: middle;\n",
       "    }\n",
       "\n",
       "    .dataframe tbody tr th {\n",
       "        vertical-align: top;\n",
       "    }\n",
       "\n",
       "    .dataframe thead th {\n",
       "        text-align: right;\n",
       "    }\n",
       "</style>\n",
       "<table border=\"1\" class=\"dataframe\">\n",
       "  <thead>\n",
       "    <tr style=\"text-align: right;\">\n",
       "      <th></th>\n",
       "      <th>age</th>\n",
       "      <th>workclass</th>\n",
       "      <th>education</th>\n",
       "      <th>education-num</th>\n",
       "      <th>marital-status</th>\n",
       "      <th>occupation</th>\n",
       "      <th>relationship</th>\n",
       "      <th>race</th>\n",
       "      <th>sex</th>\n",
       "      <th>capital-gain</th>\n",
       "      <th>...</th>\n",
       "      <th>hours-per-week</th>\n",
       "      <th>native-country</th>\n",
       "      <th>Expense</th>\n",
       "      <th>occupation1</th>\n",
       "      <th>workclass1</th>\n",
       "      <th>relationship1</th>\n",
       "      <th>race1</th>\n",
       "      <th>native-country1</th>\n",
       "      <th>marital-status1</th>\n",
       "      <th>education1</th>\n",
       "    </tr>\n",
       "  </thead>\n",
       "  <tbody>\n",
       "    <tr>\n",
       "      <th>0</th>\n",
       "      <td>39</td>\n",
       "      <td>Self-emp-inc</td>\n",
       "      <td>Bachelors</td>\n",
       "      <td>13</td>\n",
       "      <td>Married-civ-spouse</td>\n",
       "      <td>Exec-managerial</td>\n",
       "      <td>Husband</td>\n",
       "      <td>White</td>\n",
       "      <td>1</td>\n",
       "      <td>15024</td>\n",
       "      <td>...</td>\n",
       "      <td>50</td>\n",
       "      <td>United-States</td>\n",
       "      <td>1</td>\n",
       "      <td>3</td>\n",
       "      <td>4</td>\n",
       "      <td>0</td>\n",
       "      <td>4</td>\n",
       "      <td>36</td>\n",
       "      <td>2</td>\n",
       "      <td>9</td>\n",
       "    </tr>\n",
       "    <tr>\n",
       "      <th>1</th>\n",
       "      <td>20</td>\n",
       "      <td>Private</td>\n",
       "      <td>Some-college</td>\n",
       "      <td>10</td>\n",
       "      <td>Never-married</td>\n",
       "      <td>Other-service</td>\n",
       "      <td>Own-child</td>\n",
       "      <td>White</td>\n",
       "      <td>1</td>\n",
       "      <td>0</td>\n",
       "      <td>...</td>\n",
       "      <td>40</td>\n",
       "      <td>United-States</td>\n",
       "      <td>0</td>\n",
       "      <td>7</td>\n",
       "      <td>3</td>\n",
       "      <td>3</td>\n",
       "      <td>4</td>\n",
       "      <td>36</td>\n",
       "      <td>4</td>\n",
       "      <td>15</td>\n",
       "    </tr>\n",
       "    <tr>\n",
       "      <th>2</th>\n",
       "      <td>50</td>\n",
       "      <td>Private</td>\n",
       "      <td>Doctorate</td>\n",
       "      <td>16</td>\n",
       "      <td>Married-civ-spouse</td>\n",
       "      <td>Prof-specialty</td>\n",
       "      <td>Husband</td>\n",
       "      <td>White</td>\n",
       "      <td>1</td>\n",
       "      <td>0</td>\n",
       "      <td>...</td>\n",
       "      <td>65</td>\n",
       "      <td>United-States</td>\n",
       "      <td>1</td>\n",
       "      <td>9</td>\n",
       "      <td>3</td>\n",
       "      <td>0</td>\n",
       "      <td>4</td>\n",
       "      <td>36</td>\n",
       "      <td>2</td>\n",
       "      <td>10</td>\n",
       "    </tr>\n",
       "    <tr>\n",
       "      <th>3</th>\n",
       "      <td>38</td>\n",
       "      <td>State-gov</td>\n",
       "      <td>HS-grad</td>\n",
       "      <td>9</td>\n",
       "      <td>Married-civ-spouse</td>\n",
       "      <td>Prof-specialty</td>\n",
       "      <td>Wife</td>\n",
       "      <td>White</td>\n",
       "      <td>0</td>\n",
       "      <td>0</td>\n",
       "      <td>...</td>\n",
       "      <td>40</td>\n",
       "      <td>United-States</td>\n",
       "      <td>1</td>\n",
       "      <td>9</td>\n",
       "      <td>6</td>\n",
       "      <td>5</td>\n",
       "      <td>4</td>\n",
       "      <td>36</td>\n",
       "      <td>2</td>\n",
       "      <td>11</td>\n",
       "    </tr>\n",
       "    <tr>\n",
       "      <th>4</th>\n",
       "      <td>23</td>\n",
       "      <td>Local-gov</td>\n",
       "      <td>Bachelors</td>\n",
       "      <td>13</td>\n",
       "      <td>Never-married</td>\n",
       "      <td>Prof-specialty</td>\n",
       "      <td>Own-child</td>\n",
       "      <td>White</td>\n",
       "      <td>0</td>\n",
       "      <td>0</td>\n",
       "      <td>...</td>\n",
       "      <td>60</td>\n",
       "      <td>United-States</td>\n",
       "      <td>0</td>\n",
       "      <td>9</td>\n",
       "      <td>1</td>\n",
       "      <td>3</td>\n",
       "      <td>4</td>\n",
       "      <td>36</td>\n",
       "      <td>4</td>\n",
       "      <td>9</td>\n",
       "    </tr>\n",
       "  </tbody>\n",
       "</table>\n",
       "<p>5 rows × 21 columns</p>\n",
       "</div>"
      ],
      "text/plain": [
       "   age      workclass      education  education-num       marital-status  \\\n",
       "0   39   Self-emp-inc      Bachelors             13   Married-civ-spouse   \n",
       "1   20        Private   Some-college             10        Never-married   \n",
       "2   50        Private      Doctorate             16   Married-civ-spouse   \n",
       "3   38      State-gov        HS-grad              9   Married-civ-spouse   \n",
       "4   23      Local-gov      Bachelors             13        Never-married   \n",
       "\n",
       "         occupation relationship    race  sex  capital-gain  ...  \\\n",
       "0   Exec-managerial      Husband   White    1         15024  ...   \n",
       "1     Other-service    Own-child   White    1             0  ...   \n",
       "2    Prof-specialty      Husband   White    1             0  ...   \n",
       "3    Prof-specialty         Wife   White    0             0  ...   \n",
       "4    Prof-specialty    Own-child   White    0             0  ...   \n",
       "\n",
       "   hours-per-week  native-country Expense  occupation1  workclass1  \\\n",
       "0              50   United-States       1            3           4   \n",
       "1              40   United-States       0            7           3   \n",
       "2              65   United-States       1            9           3   \n",
       "3              40   United-States       1            9           6   \n",
       "4              60   United-States       0            9           1   \n",
       "\n",
       "   relationship1  race1  native-country1  marital-status1  education1  \n",
       "0              0      4               36                2           9  \n",
       "1              3      4               36                4          15  \n",
       "2              0      4               36                2          10  \n",
       "3              5      4               36                2          11  \n",
       "4              3      4               36                4           9  \n",
       "\n",
       "[5 rows x 21 columns]"
      ]
     },
     "execution_count": 27,
     "metadata": {
      "tags": []
     },
     "output_type": "execute_result"
    }
   ],
   "source": [
    "dataset.head()"
   ]
  },
  {
   "cell_type": "code",
   "execution_count": null,
   "metadata": {
    "id": "8N48m_ntdimK",
    "outputId": "24f41384-88d4-4473-87eb-339eee6092ad"
   },
   "outputs": [
    {
     "data": {
      "text/plain": [
       "Index(['age', 'workclass', 'education', 'education-num', 'marital-status',\n",
       "       'occupation', 'relationship', 'race', 'sex', 'capital-gain',\n",
       "       'capital-loss', 'hours-per-week', 'native-country', 'Expense',\n",
       "       'occupation1', 'workclass1', 'relationship1', 'race1',\n",
       "       'native-country1', 'marital-status1', 'education1'],\n",
       "      dtype='object')"
      ]
     },
     "execution_count": 28,
     "metadata": {
      "tags": []
     },
     "output_type": "execute_result"
    }
   ],
   "source": [
    "dataset.columns"
   ]
  },
  {
   "cell_type": "code",
   "execution_count": null,
   "metadata": {
    "id": "S0dH618tdimL"
   },
   "outputs": [],
   "source": [
    "Y=dataset.Expense\n",
    "X=dataset[['age', 'education-num','sex', 'capital-gain',\n",
    "       'capital-loss', 'hours-per-week', 'native-country1', \n",
    "           'occupation1', 'workclass1', 'relationship1',\n",
    "       'race1', 'marital-status1', 'education1']]"
   ]
  },
  {
   "cell_type": "code",
   "execution_count": null,
   "metadata": {
    "id": "vNRVV_mFdimN"
   },
   "outputs": [],
   "source": [
    "X_train, X_test, y_train, y_test = train_test_split(X,Y,test_size=0.30,stratify = Y,random_state=0)"
   ]
  },
  {
   "cell_type": "code",
   "execution_count": null,
   "metadata": {
    "id": "LXwEhSISdimP",
    "outputId": "025e7e0d-f2c3-452c-8642-b059cfd2c2fa"
   },
   "outputs": [
    {
     "data": {
      "text/plain": [
       "0    2643\n",
       "1     857\n",
       "Name: Expense, dtype: int64"
      ]
     },
     "execution_count": 31,
     "metadata": {
      "tags": []
     },
     "output_type": "execute_result"
    }
   ],
   "source": [
    "y_train.value_counts()"
   ]
  },
  {
   "cell_type": "code",
   "execution_count": null,
   "metadata": {
    "id": "MXD5mbf_dimQ",
    "outputId": "879caa3e-f94d-4f10-f280-0e50bf3de1d2",
    "scrolled": true
   },
   "outputs": [
    {
     "data": {
      "text/plain": [
       "0    1133\n",
       "1     367\n",
       "Name: Expense, dtype: int64"
      ]
     },
     "execution_count": 32,
     "metadata": {
      "tags": []
     },
     "output_type": "execute_result"
    }
   ],
   "source": [
    "y_test.value_counts()"
   ]
  },
  {
   "cell_type": "code",
   "execution_count": null,
   "metadata": {
    "id": "wlR8XI_pdimR",
    "outputId": "45ddbd3a-2940-4e65-feb5-7b70d8d12c86"
   },
   "outputs": [
    {
     "data": {
      "text/plain": [
       "GaussianNB()"
      ]
     },
     "execution_count": 33,
     "metadata": {
      "tags": []
     },
     "output_type": "execute_result"
    }
   ],
   "source": [
    "# Importing decision tree classifier from sklearn library\n",
    "from sklearn.linear_model import LogisticRegression\n",
    "from sklearn.naive_bayes import GaussianNB\n",
    "\n",
    "# Fitting the decision tree with default hyperparameters, apart from\n",
    "# max_depth which is 5 so that we can plot and read the tree.\n",
    "dt_default = GaussianNB()\n",
    "dt_default.fit(X_train, y_train)"
   ]
  },
  {
   "cell_type": "code",
   "execution_count": null,
   "metadata": {
    "id": "MoRXW1WDdimT",
    "outputId": "002cd9e8-62fd-4ce0-c1f3-52660fa4b450"
   },
   "outputs": [
    {
     "name": "stdout",
     "output_type": "stream",
     "text": [
      "              precision    recall  f1-score   support\n",
      "\n",
      "           0       0.82      0.95      0.88      1133\n",
      "           1       0.68      0.34      0.45       367\n",
      "\n",
      "    accuracy                           0.80      1500\n",
      "   macro avg       0.75      0.64      0.66      1500\n",
      "weighted avg       0.78      0.80      0.77      1500\n",
      "\n",
      "0.7993333333333333\n"
     ]
    }
   ],
   "source": [
    "# Let's check the evaluation metrics of our default model\n",
    "\n",
    "# Importing classification report and confusion matrix from sklearn metrics\n",
    "from sklearn.metrics import classification_report, confusion_matrix, accuracy_score\n",
    "\n",
    "# Making predictions\n",
    "y_pred_default = dt_default.predict(X_test)\n",
    "\n",
    "# Printing classification report\n",
    "print(classification_report(y_test, y_pred_default))\n",
    "print(accuracy_score(y_test, y_pred_default))"
   ]
  },
  {
   "cell_type": "code",
   "execution_count": null,
   "metadata": {
    "_cell_guid": "1f2a9e2f-273b-495b-a615-4e9b8dd33c69",
    "_execution_state": "idle",
    "_uuid": "33f5e2439162592c594918029c6ececc4d6fa817",
    "id": "YLuODMWLdimV",
    "outputId": "df2fbecc-4a5d-4438-d02f-bfd51be7e482"
   },
   "outputs": [
    {
     "data": {
      "text/html": [
       "<div>\n",
       "<style scoped>\n",
       "    .dataframe tbody tr th:only-of-type {\n",
       "        vertical-align: middle;\n",
       "    }\n",
       "\n",
       "    .dataframe tbody tr th {\n",
       "        vertical-align: top;\n",
       "    }\n",
       "\n",
       "    .dataframe thead th {\n",
       "        text-align: right;\n",
       "    }\n",
       "</style>\n",
       "<table border=\"1\" class=\"dataframe\">\n",
       "  <thead>\n",
       "    <tr style=\"text-align: right;\">\n",
       "      <th></th>\n",
       "      <th>age</th>\n",
       "      <th>workclass</th>\n",
       "      <th>education</th>\n",
       "      <th>education-num</th>\n",
       "      <th>marital-status</th>\n",
       "      <th>occupation</th>\n",
       "      <th>relationship</th>\n",
       "      <th>race</th>\n",
       "      <th>sex</th>\n",
       "      <th>capital-gain</th>\n",
       "      <th>...</th>\n",
       "      <th>hours-per-week</th>\n",
       "      <th>native-country</th>\n",
       "      <th>Expense</th>\n",
       "      <th>occupation1</th>\n",
       "      <th>workclass1</th>\n",
       "      <th>relationship1</th>\n",
       "      <th>race1</th>\n",
       "      <th>native-country1</th>\n",
       "      <th>marital-status1</th>\n",
       "      <th>education1</th>\n",
       "    </tr>\n",
       "  </thead>\n",
       "  <tbody>\n",
       "    <tr>\n",
       "      <th>0</th>\n",
       "      <td>39</td>\n",
       "      <td>Self-emp-inc</td>\n",
       "      <td>Bachelors</td>\n",
       "      <td>13</td>\n",
       "      <td>1</td>\n",
       "      <td>Exec-managerial</td>\n",
       "      <td>Husband</td>\n",
       "      <td>White</td>\n",
       "      <td>1</td>\n",
       "      <td>15024</td>\n",
       "      <td>...</td>\n",
       "      <td>50</td>\n",
       "      <td>United-States</td>\n",
       "      <td>1</td>\n",
       "      <td>3</td>\n",
       "      <td>4</td>\n",
       "      <td>0</td>\n",
       "      <td>4</td>\n",
       "      <td>36</td>\n",
       "      <td>2</td>\n",
       "      <td>9</td>\n",
       "    </tr>\n",
       "    <tr>\n",
       "      <th>1</th>\n",
       "      <td>20</td>\n",
       "      <td>Private</td>\n",
       "      <td>Some-college</td>\n",
       "      <td>10</td>\n",
       "      <td>0</td>\n",
       "      <td>Other-service</td>\n",
       "      <td>Own-child</td>\n",
       "      <td>White</td>\n",
       "      <td>1</td>\n",
       "      <td>0</td>\n",
       "      <td>...</td>\n",
       "      <td>40</td>\n",
       "      <td>United-States</td>\n",
       "      <td>0</td>\n",
       "      <td>7</td>\n",
       "      <td>3</td>\n",
       "      <td>3</td>\n",
       "      <td>4</td>\n",
       "      <td>36</td>\n",
       "      <td>4</td>\n",
       "      <td>15</td>\n",
       "    </tr>\n",
       "    <tr>\n",
       "      <th>2</th>\n",
       "      <td>50</td>\n",
       "      <td>Private</td>\n",
       "      <td>Doctorate</td>\n",
       "      <td>16</td>\n",
       "      <td>1</td>\n",
       "      <td>Prof-specialty</td>\n",
       "      <td>Husband</td>\n",
       "      <td>White</td>\n",
       "      <td>1</td>\n",
       "      <td>0</td>\n",
       "      <td>...</td>\n",
       "      <td>65</td>\n",
       "      <td>United-States</td>\n",
       "      <td>1</td>\n",
       "      <td>9</td>\n",
       "      <td>3</td>\n",
       "      <td>0</td>\n",
       "      <td>4</td>\n",
       "      <td>36</td>\n",
       "      <td>2</td>\n",
       "      <td>10</td>\n",
       "    </tr>\n",
       "    <tr>\n",
       "      <th>3</th>\n",
       "      <td>38</td>\n",
       "      <td>State-gov</td>\n",
       "      <td>HS-grad</td>\n",
       "      <td>9</td>\n",
       "      <td>1</td>\n",
       "      <td>Prof-specialty</td>\n",
       "      <td>Wife</td>\n",
       "      <td>White</td>\n",
       "      <td>0</td>\n",
       "      <td>0</td>\n",
       "      <td>...</td>\n",
       "      <td>40</td>\n",
       "      <td>United-States</td>\n",
       "      <td>1</td>\n",
       "      <td>9</td>\n",
       "      <td>6</td>\n",
       "      <td>5</td>\n",
       "      <td>4</td>\n",
       "      <td>36</td>\n",
       "      <td>2</td>\n",
       "      <td>11</td>\n",
       "    </tr>\n",
       "    <tr>\n",
       "      <th>4</th>\n",
       "      <td>23</td>\n",
       "      <td>Local-gov</td>\n",
       "      <td>Bachelors</td>\n",
       "      <td>13</td>\n",
       "      <td>0</td>\n",
       "      <td>Prof-specialty</td>\n",
       "      <td>Own-child</td>\n",
       "      <td>White</td>\n",
       "      <td>0</td>\n",
       "      <td>0</td>\n",
       "      <td>...</td>\n",
       "      <td>60</td>\n",
       "      <td>United-States</td>\n",
       "      <td>0</td>\n",
       "      <td>9</td>\n",
       "      <td>1</td>\n",
       "      <td>3</td>\n",
       "      <td>4</td>\n",
       "      <td>36</td>\n",
       "      <td>4</td>\n",
       "      <td>9</td>\n",
       "    </tr>\n",
       "  </tbody>\n",
       "</table>\n",
       "<p>5 rows × 21 columns</p>\n",
       "</div>"
      ],
      "text/plain": [
       "   age      workclass      education  education-num  marital-status  \\\n",
       "0   39   Self-emp-inc      Bachelors             13               1   \n",
       "1   20        Private   Some-college             10               0   \n",
       "2   50        Private      Doctorate             16               1   \n",
       "3   38      State-gov        HS-grad              9               1   \n",
       "4   23      Local-gov      Bachelors             13               0   \n",
       "\n",
       "         occupation relationship    race  sex  capital-gain  ...  \\\n",
       "0   Exec-managerial      Husband   White    1         15024  ...   \n",
       "1     Other-service    Own-child   White    1             0  ...   \n",
       "2    Prof-specialty      Husband   White    1             0  ...   \n",
       "3    Prof-specialty         Wife   White    0             0  ...   \n",
       "4    Prof-specialty    Own-child   White    0             0  ...   \n",
       "\n",
       "   hours-per-week  native-country Expense  occupation1  workclass1  \\\n",
       "0              50   United-States       1            3           4   \n",
       "1              40   United-States       0            7           3   \n",
       "2              65   United-States       1            9           3   \n",
       "3              40   United-States       1            9           6   \n",
       "4              60   United-States       0            9           1   \n",
       "\n",
       "   relationship1  race1  native-country1  marital-status1  education1  \n",
       "0              0      4               36                2           9  \n",
       "1              3      4               36                4          15  \n",
       "2              0      4               36                2          10  \n",
       "3              5      4               36                2          11  \n",
       "4              3      4               36                4           9  \n",
       "\n",
       "[5 rows x 21 columns]"
      ]
     },
     "execution_count": 35,
     "metadata": {
      "tags": []
     },
     "output_type": "execute_result"
    }
   ],
   "source": [
    "# Convert Sex value to 0 and 1\n",
    "#dataset[\"sex\"] = dataset[\"sex\"].map({\"Male\": 0, \"Female\":1})\n",
    "\n",
    "# Create Married Column - Binary Yes(1) or No(0)\n",
    "\n",
    "\n",
    "dataset[\"marital-status\"] = dataset[\"marital-status\"].replace([' Never-married',' Divorced',' Separated',' Widowed'], 'Single')\n",
    "dataset[\"marital-status\"] = dataset[\"marital-status\"].replace([' Married-civ-spouse',' Married-spouse-absent',' Married-AF-spouse'], 'Married')\n",
    "dataset[\"marital-status\"] = dataset[\"marital-status\"].map({\"Married\":1, \"Single\":0})\n",
    "dataset[\"marital-status\"] = dataset[\"marital-status\"].astype(int)\n",
    "\n",
    "# Drop the data you don't want to use\n",
    "#dataset.drop(labels=['Survey I.D.'], axis = 1, inplace = True)\n",
    "#print('Dataset with Dropped Labels')\n",
    "dataset.head()"
   ]
  },
  {
   "cell_type": "code",
   "execution_count": null,
   "metadata": {
    "id": "gxmw7Ic8dimX",
    "outputId": "03850373-d388-4574-f603-841b201bb470"
   },
   "outputs": [
    {
     "data": {
      "text/plain": [
       "array([1, 0])"
      ]
     },
     "execution_count": 36,
     "metadata": {
      "tags": []
     },
     "output_type": "execute_result"
    }
   ],
   "source": [
    "dataset[\"marital-status\"].unique()"
   ]
  },
  {
   "cell_type": "markdown",
   "metadata": {
    "id": "gqI2ogLqdimY"
   },
   "source": [
    "###### Barplot of Workclass vs Income"
   ]
  },
  {
   "cell_type": "code",
   "execution_count": null,
   "metadata": {
    "id": "nb0YV_lQdimZ",
    "outputId": "d091e64a-55a2-4501-b22d-fb94a16617b1",
    "scrolled": false
   },
   "outputs": [
    {
     "data": {
      "text/plain": [
       "Text(0.5, 0, 'Workclass')"
      ]
     },
     "execution_count": 37,
     "metadata": {
      "tags": []
     },
     "output_type": "execute_result"
    },
    {
     "data": {
      "image/png": "[encoded data removed]",
      "text/plain": [
       "<Figure size 1800x720 with 1 Axes>"
      ]
     },
     "metadata": {
      "tags": []
     },
     "output_type": "display_data"
    }
   ],
   "source": [
    "([\" ?\"],'Unknown')\n",
    "fig, ax = plt.subplots(figsize=(25,10))\n",
    "sns.set_context(\"poster\")\n",
    "current_palette = sns.diverging_palette(255, 133, l=50, n=7, center=\"dark\")\n",
    "\n",
    "fig = sns.barplot(x='workclass',y='Expense',data=dataset,palette=current_palette)\n",
    "\n",
    "fig.set_ylabel(\"Consumption <=50K Probability [%]\")\n",
    "fig.set_xlabel(\"Workclass\")"
   ]
  },
  {
   "cell_type": "markdown",
   "metadata": {
    "id": "QlA9TxPydimb"
   },
   "source": [
    "    * From the barplot of Workclass vs Consumption we see from high to low that self-emp-inc has the highest chance of being in Group-B with a 54% chance, while the last known workclass(private) has a 22% of being in Group-B.\n"
   ]
  },
  {
   "cell_type": "code",
   "execution_count": null,
   "metadata": {
    "id": "zXCNR7V8dimc",
    "outputId": "4d203589-2025-490a-d54f-412f89fbb08b"
   },
   "outputs": [
    {
     "data": {
      "text/plain": [
       "array([' Self-emp-inc', ' Private', ' State-gov', ' Local-gov',\n",
       "       ' Self-emp-not-inc', ' Federal-gov', ' Without-pay',\n",
       "       ' Never-worked'], dtype=object)"
      ]
     },
     "execution_count": 38,
     "metadata": {
      "tags": []
     },
     "output_type": "execute_result"
    }
   ],
   "source": [
    "dataset['workclass'].unique()"
   ]
  },
  {
   "cell_type": "markdown",
   "metadata": {
    "id": "oLOibb_1dimd"
   },
   "source": [
    "##### Barplot of Marital Status vs Expense"
   ]
  },
  {
   "cell_type": "code",
   "execution_count": null,
   "metadata": {
    "id": "o7e32Stwdimd",
    "outputId": "afbe31a5-db46-4436-d2fa-2ec1e3c49e7b"
   },
   "outputs": [
    {
     "data": {
      "image/png": "[encoded data removed]",
      "text/plain": [
       "<Figure size 432x288 with 1 Axes>"
      ]
     },
     "metadata": {
      "tags": []
     },
     "output_type": "display_data"
    }
   ],
   "source": [
    "plt.style.use('seaborn-whitegrid')\n",
    "sns.barplot(x='marital-status',y='Expense',data=dataset)\n",
    "plt.ylabel(\"Expense <=50K Probability [%]\")\n",
    "plt.xlabel(\"Marital Status\")\n",
    "\n",
    "datasetCopy= dataset.copy()\n",
    "datasetCopy[\"marital-status\"] = datasetCopy[\"marital-status\"].replace([' Married-civ-spouse',' Married-spouse-absent',' Married-AF-spouse'], '1')\n",
    "datasetCopy[\"marital-status\"] = datasetCopy[\"marital-status\"].replace([' Never-married',' Divorced',' Separated',' Widowed'], '0')\n",
    "datasetCopy[\"marital-status\"] = datasetCopy[\"marital-status\"].astype(int)\n",
    "\n",
    "plt.show()"
   ]
  },
  {
   "cell_type": "markdown",
   "metadata": {
    "id": "Z653Xr2Adimf"
   },
   "source": [
    "* From the first barplot of Marital Status vs Consumption, we see that, from high to low, Married-civ-spouse has the lowest probability of having an Consumption of <=50K with a 43% chance, while Never-married has the lowest, with a 5% chance of consuming of <=50K.\n",
    "\n",
    "\n",
    "* From the second barplot ofMarital Status vs Income plot, we can see a wide discrepancy in probability of earning a higher income based on marital status. Married adults on average have a 45% probability of earning over 50k , while single adults possess only a 7% probability of consumption of <=50K.\n",
    "\n"
   ]
  },
  {
   "cell_type": "markdown",
   "metadata": {
    "id": "JyxNs4qGdimg"
   },
   "source": [
    "##### Barplot of Relationship vs Income"
   ]
  },
  {
   "cell_type": "code",
   "execution_count": null,
   "metadata": {
    "id": "4pEE69vhdimh",
    "outputId": "eeed6c3e-73b4-41d5-86a8-80cd155b6121"
   },
   "outputs": [
    {
     "data": {
      "text/plain": [
       "array([' Husband', ' Own-child', ' Wife', ' Not-in-family', ' Unmarried',\n",
       "       ' Other-relative'], dtype=object)"
      ]
     },
     "execution_count": 40,
     "metadata": {
      "tags": []
     },
     "output_type": "execute_result"
    }
   ],
   "source": [
    "dataset['relationship'].unique()"
   ]
  },
  {
   "cell_type": "code",
   "execution_count": null,
   "metadata": {
    "id": "7ywADCNGdimi",
    "outputId": "d4c3d774-7cc8-45ea-faeb-96da36b428bd",
    "scrolled": true
   },
   "outputs": [
    {
     "data": {
      "text/plain": [
       "Text(0.5, 0, 'Relationship')"
      ]
     },
     "execution_count": 41,
     "metadata": {
      "tags": []
     },
     "output_type": "execute_result"
    },
    {
     "data": {
      "image/png": "[encoded data removed]",
      "text/plain": [
       "<Figure size 1800x504 with 1 Axes>"
      ]
     },
     "metadata": {
      "tags": []
     },
     "output_type": "display_data"
    }
   ],
   "source": [
    "fig, ax = plt.subplots(figsize=(25,7))\n",
    "sns.set_context(\"poster\")\n",
    "current_palette = sns.color_palette(\"Blues\")\n",
    "\n",
    "fig = sns.barplot(x='relationship',y='Expense',data=df1, order=[' Own-child',' Other-relative',' Unmarried',' Not-in-family',' Husband',' Wife'], palette=current_palette)\n",
    "\n",
    "fig.set_ylabel(\"Expense <=50K Probability [%]\")\n",
    "fig.set_xlabel(\"Relationship\")"
   ]
  },
  {
   "cell_type": "markdown",
   "metadata": {
    "id": "m-gxXxl1dimk"
   },
   "source": [
    "* From the barplot of Relationship vs Consumption, we see that, from high to low, Wife has the highest probability of being in Group-B with a 47% chance, while Own-child has the lowest, with a 1% chance of being in <=50K.\n",
    "\n",
    "\n",
    "* This plot clearly shows that wives and husbands consecutively have the highest probabilities of being in Group-B. This data agrees with the outcome of the previous barplot of Marital Status vs Consumption, which is that, in general, married people are more likely to be in <=50K, while single people are significantly less likely of being in <=50K."
   ]
  },
  {
   "cell_type": "code",
   "execution_count": null,
   "metadata": {
    "id": "LNnxNHOvdiml"
   },
   "outputs": [],
   "source": [
    "from sklearn.preprocessing import LabelEncoder\n",
    "label_encoder = LabelEncoder()\n",
    "dataset['marital-status2'] = label_encoder.fit_transform(dataset['marital-status'])"
   ]
  },
  {
   "cell_type": "code",
   "execution_count": null,
   "metadata": {
    "id": "UeAWdqD5diml"
   },
   "outputs": [],
   "source": [
    "Y=dataset.Expense\n",
    "X=dataset[['age', 'education-num','sex', 'capital-gain',\n",
    "       'capital-loss', 'hours-per-week', 'native-country1', \n",
    "           'occupation1', 'workclass1', 'relationship1',\n",
    "       'race1', 'marital-status2', 'education1']]"
   ]
  },
  {
   "cell_type": "code",
   "execution_count": null,
   "metadata": {
    "id": "JoH4eNFMdimm",
    "outputId": "603717c2-21ec-46ae-81fe-90acd83fedb4",
    "scrolled": true
   },
   "outputs": [
    {
     "data": {
      "text/html": [
       "<div>\n",
       "<style scoped>\n",
       "    .dataframe tbody tr th:only-of-type {\n",
       "        vertical-align: middle;\n",
       "    }\n",
       "\n",
       "    .dataframe tbody tr th {\n",
       "        vertical-align: top;\n",
       "    }\n",
       "\n",
       "    .dataframe thead th {\n",
       "        text-align: right;\n",
       "    }\n",
       "</style>\n",
       "<table border=\"1\" class=\"dataframe\">\n",
       "  <thead>\n",
       "    <tr style=\"text-align: right;\">\n",
       "      <th></th>\n",
       "      <th>age</th>\n",
       "      <th>workclass</th>\n",
       "      <th>education</th>\n",
       "      <th>education-num</th>\n",
       "      <th>marital-status</th>\n",
       "      <th>occupation</th>\n",
       "      <th>relationship</th>\n",
       "      <th>race</th>\n",
       "      <th>sex</th>\n",
       "      <th>capital-gain</th>\n",
       "      <th>...</th>\n",
       "      <th>native-country</th>\n",
       "      <th>Expense</th>\n",
       "      <th>occupation1</th>\n",
       "      <th>workclass1</th>\n",
       "      <th>relationship1</th>\n",
       "      <th>race1</th>\n",
       "      <th>native-country1</th>\n",
       "      <th>marital-status1</th>\n",
       "      <th>education1</th>\n",
       "      <th>marital-status2</th>\n",
       "    </tr>\n",
       "  </thead>\n",
       "  <tbody>\n",
       "    <tr>\n",
       "      <th>0</th>\n",
       "      <td>39</td>\n",
       "      <td>Self-emp-inc</td>\n",
       "      <td>Bachelors</td>\n",
       "      <td>13</td>\n",
       "      <td>1</td>\n",
       "      <td>Exec-managerial</td>\n",
       "      <td>Husband</td>\n",
       "      <td>White</td>\n",
       "      <td>1</td>\n",
       "      <td>15024</td>\n",
       "      <td>...</td>\n",
       "      <td>United-States</td>\n",
       "      <td>1</td>\n",
       "      <td>3</td>\n",
       "      <td>4</td>\n",
       "      <td>0</td>\n",
       "      <td>4</td>\n",
       "      <td>36</td>\n",
       "      <td>2</td>\n",
       "      <td>9</td>\n",
       "      <td>1</td>\n",
       "    </tr>\n",
       "    <tr>\n",
       "      <th>1</th>\n",
       "      <td>20</td>\n",
       "      <td>Private</td>\n",
       "      <td>Some-college</td>\n",
       "      <td>10</td>\n",
       "      <td>0</td>\n",
       "      <td>Other-service</td>\n",
       "      <td>Own-child</td>\n",
       "      <td>White</td>\n",
       "      <td>1</td>\n",
       "      <td>0</td>\n",
       "      <td>...</td>\n",
       "      <td>United-States</td>\n",
       "      <td>0</td>\n",
       "      <td>7</td>\n",
       "      <td>3</td>\n",
       "      <td>3</td>\n",
       "      <td>4</td>\n",
       "      <td>36</td>\n",
       "      <td>4</td>\n",
       "      <td>15</td>\n",
       "      <td>0</td>\n",
       "    </tr>\n",
       "    <tr>\n",
       "      <th>2</th>\n",
       "      <td>50</td>\n",
       "      <td>Private</td>\n",
       "      <td>Doctorate</td>\n",
       "      <td>16</td>\n",
       "      <td>1</td>\n",
       "      <td>Prof-specialty</td>\n",
       "      <td>Husband</td>\n",
       "      <td>White</td>\n",
       "      <td>1</td>\n",
       "      <td>0</td>\n",
       "      <td>...</td>\n",
       "      <td>United-States</td>\n",
       "      <td>1</td>\n",
       "      <td>9</td>\n",
       "      <td>3</td>\n",
       "      <td>0</td>\n",
       "      <td>4</td>\n",
       "      <td>36</td>\n",
       "      <td>2</td>\n",
       "      <td>10</td>\n",
       "      <td>1</td>\n",
       "    </tr>\n",
       "    <tr>\n",
       "      <th>3</th>\n",
       "      <td>38</td>\n",
       "      <td>State-gov</td>\n",
       "      <td>HS-grad</td>\n",
       "      <td>9</td>\n",
       "      <td>1</td>\n",
       "      <td>Prof-specialty</td>\n",
       "      <td>Wife</td>\n",
       "      <td>White</td>\n",
       "      <td>0</td>\n",
       "      <td>0</td>\n",
       "      <td>...</td>\n",
       "      <td>United-States</td>\n",
       "      <td>1</td>\n",
       "      <td>9</td>\n",
       "      <td>6</td>\n",
       "      <td>5</td>\n",
       "      <td>4</td>\n",
       "      <td>36</td>\n",
       "      <td>2</td>\n",
       "      <td>11</td>\n",
       "      <td>1</td>\n",
       "    </tr>\n",
       "    <tr>\n",
       "      <th>4</th>\n",
       "      <td>23</td>\n",
       "      <td>Local-gov</td>\n",
       "      <td>Bachelors</td>\n",
       "      <td>13</td>\n",
       "      <td>0</td>\n",
       "      <td>Prof-specialty</td>\n",
       "      <td>Own-child</td>\n",
       "      <td>White</td>\n",
       "      <td>0</td>\n",
       "      <td>0</td>\n",
       "      <td>...</td>\n",
       "      <td>United-States</td>\n",
       "      <td>0</td>\n",
       "      <td>9</td>\n",
       "      <td>1</td>\n",
       "      <td>3</td>\n",
       "      <td>4</td>\n",
       "      <td>36</td>\n",
       "      <td>4</td>\n",
       "      <td>9</td>\n",
       "      <td>0</td>\n",
       "    </tr>\n",
       "  </tbody>\n",
       "</table>\n",
       "<p>5 rows × 22 columns</p>\n",
       "</div>"
      ],
      "text/plain": [
       "   age      workclass      education  education-num  marital-status  \\\n",
       "0   39   Self-emp-inc      Bachelors             13               1   \n",
       "1   20        Private   Some-college             10               0   \n",
       "2   50        Private      Doctorate             16               1   \n",
       "3   38      State-gov        HS-grad              9               1   \n",
       "4   23      Local-gov      Bachelors             13               0   \n",
       "\n",
       "         occupation relationship    race  sex  capital-gain  ...  \\\n",
       "0   Exec-managerial      Husband   White    1         15024  ...   \n",
       "1     Other-service    Own-child   White    1             0  ...   \n",
       "2    Prof-specialty      Husband   White    1             0  ...   \n",
       "3    Prof-specialty         Wife   White    0             0  ...   \n",
       "4    Prof-specialty    Own-child   White    0             0  ...   \n",
       "\n",
       "   native-country  Expense occupation1  workclass1  relationship1  race1  \\\n",
       "0   United-States        1           3           4              0      4   \n",
       "1   United-States        0           7           3              3      4   \n",
       "2   United-States        1           9           3              0      4   \n",
       "3   United-States        1           9           6              5      4   \n",
       "4   United-States        0           9           1              3      4   \n",
       "\n",
       "   native-country1  marital-status1  education1  marital-status2  \n",
       "0               36                2           9                1  \n",
       "1               36                4          15                0  \n",
       "2               36                2          10                1  \n",
       "3               36                2          11                1  \n",
       "4               36                4           9                0  \n",
       "\n",
       "[5 rows x 22 columns]"
      ]
     },
     "execution_count": 44,
     "metadata": {
      "tags": []
     },
     "output_type": "execute_result"
    }
   ],
   "source": [
    "dataset.head()"
   ]
  },
  {
   "cell_type": "code",
   "execution_count": null,
   "metadata": {
    "id": "zLX_NpuZdimo"
   },
   "outputs": [],
   "source": [
    "X_train, X_test, y_train, y_test = train_test_split(X,Y,test_size=0.30,stratify = Y,random_state=0)"
   ]
  },
  {
   "cell_type": "code",
   "execution_count": null,
   "metadata": {
    "id": "Hd08yqd9dimp",
    "outputId": "20813edc-19de-4c24-9aba-a31652e3b493"
   },
   "outputs": [
    {
     "data": {
      "text/html": [
       "<div>\n",
       "<style scoped>\n",
       "    .dataframe tbody tr th:only-of-type {\n",
       "        vertical-align: middle;\n",
       "    }\n",
       "\n",
       "    .dataframe tbody tr th {\n",
       "        vertical-align: top;\n",
       "    }\n",
       "\n",
       "    .dataframe thead th {\n",
       "        text-align: right;\n",
       "    }\n",
       "</style>\n",
       "<table border=\"1\" class=\"dataframe\">\n",
       "  <thead>\n",
       "    <tr style=\"text-align: right;\">\n",
       "      <th></th>\n",
       "      <th>age</th>\n",
       "      <th>education-num</th>\n",
       "      <th>sex</th>\n",
       "      <th>capital-gain</th>\n",
       "      <th>capital-loss</th>\n",
       "      <th>hours-per-week</th>\n",
       "      <th>native-country1</th>\n",
       "      <th>occupation1</th>\n",
       "      <th>workclass1</th>\n",
       "      <th>relationship1</th>\n",
       "      <th>race1</th>\n",
       "      <th>marital-status2</th>\n",
       "      <th>education1</th>\n",
       "    </tr>\n",
       "  </thead>\n",
       "  <tbody>\n",
       "    <tr>\n",
       "      <th>count</th>\n",
       "      <td>3500.000000</td>\n",
       "      <td>3500.000000</td>\n",
       "      <td>3500.000000</td>\n",
       "      <td>3500.000000</td>\n",
       "      <td>3500.000000</td>\n",
       "      <td>3500.000000</td>\n",
       "      <td>3500.000000</td>\n",
       "      <td>3500.000000</td>\n",
       "      <td>3500.000000</td>\n",
       "      <td>3500.000000</td>\n",
       "      <td>3500.000000</td>\n",
       "      <td>3500.000000</td>\n",
       "      <td>3500.000000</td>\n",
       "    </tr>\n",
       "    <tr>\n",
       "      <th>mean</th>\n",
       "      <td>38.630857</td>\n",
       "      <td>10.063714</td>\n",
       "      <td>0.673143</td>\n",
       "      <td>1047.093429</td>\n",
       "      <td>87.524571</td>\n",
       "      <td>40.654286</td>\n",
       "      <td>34.352000</td>\n",
       "      <td>5.772571</td>\n",
       "      <td>3.082571</td>\n",
       "      <td>1.433429</td>\n",
       "      <td>3.662286</td>\n",
       "      <td>0.474286</td>\n",
       "      <td>10.306000</td>\n",
       "    </tr>\n",
       "    <tr>\n",
       "      <th>std</th>\n",
       "      <td>13.670364</td>\n",
       "      <td>2.529551</td>\n",
       "      <td>0.469132</td>\n",
       "      <td>6985.994506</td>\n",
       "      <td>399.293846</td>\n",
       "      <td>12.075542</td>\n",
       "      <td>6.108487</td>\n",
       "      <td>4.016434</td>\n",
       "      <td>1.108972</td>\n",
       "      <td>1.594637</td>\n",
       "      <td>0.856163</td>\n",
       "      <td>0.499410</td>\n",
       "      <td>3.907814</td>\n",
       "    </tr>\n",
       "    <tr>\n",
       "      <th>min</th>\n",
       "      <td>17.000000</td>\n",
       "      <td>1.000000</td>\n",
       "      <td>0.000000</td>\n",
       "      <td>0.000000</td>\n",
       "      <td>0.000000</td>\n",
       "      <td>1.000000</td>\n",
       "      <td>0.000000</td>\n",
       "      <td>0.000000</td>\n",
       "      <td>0.000000</td>\n",
       "      <td>0.000000</td>\n",
       "      <td>0.000000</td>\n",
       "      <td>0.000000</td>\n",
       "      <td>0.000000</td>\n",
       "    </tr>\n",
       "    <tr>\n",
       "      <th>25%</th>\n",
       "      <td>28.000000</td>\n",
       "      <td>9.000000</td>\n",
       "      <td>0.000000</td>\n",
       "      <td>0.000000</td>\n",
       "      <td>0.000000</td>\n",
       "      <td>40.000000</td>\n",
       "      <td>36.000000</td>\n",
       "      <td>2.000000</td>\n",
       "      <td>3.000000</td>\n",
       "      <td>0.000000</td>\n",
       "      <td>4.000000</td>\n",
       "      <td>0.000000</td>\n",
       "      <td>9.000000</td>\n",
       "    </tr>\n",
       "    <tr>\n",
       "      <th>50%</th>\n",
       "      <td>37.000000</td>\n",
       "      <td>10.000000</td>\n",
       "      <td>1.000000</td>\n",
       "      <td>0.000000</td>\n",
       "      <td>0.000000</td>\n",
       "      <td>40.000000</td>\n",
       "      <td>36.000000</td>\n",
       "      <td>6.000000</td>\n",
       "      <td>3.000000</td>\n",
       "      <td>1.000000</td>\n",
       "      <td>4.000000</td>\n",
       "      <td>0.000000</td>\n",
       "      <td>11.000000</td>\n",
       "    </tr>\n",
       "    <tr>\n",
       "      <th>75%</th>\n",
       "      <td>48.000000</td>\n",
       "      <td>12.000000</td>\n",
       "      <td>1.000000</td>\n",
       "      <td>0.000000</td>\n",
       "      <td>0.000000</td>\n",
       "      <td>45.000000</td>\n",
       "      <td>36.000000</td>\n",
       "      <td>9.000000</td>\n",
       "      <td>3.000000</td>\n",
       "      <td>3.000000</td>\n",
       "      <td>4.000000</td>\n",
       "      <td>1.000000</td>\n",
       "      <td>12.000000</td>\n",
       "    </tr>\n",
       "    <tr>\n",
       "      <th>max</th>\n",
       "      <td>90.000000</td>\n",
       "      <td>16.000000</td>\n",
       "      <td>1.000000</td>\n",
       "      <td>99999.000000</td>\n",
       "      <td>3004.000000</td>\n",
       "      <td>99.000000</td>\n",
       "      <td>38.000000</td>\n",
       "      <td>13.000000</td>\n",
       "      <td>7.000000</td>\n",
       "      <td>5.000000</td>\n",
       "      <td>4.000000</td>\n",
       "      <td>1.000000</td>\n",
       "      <td>15.000000</td>\n",
       "    </tr>\n",
       "  </tbody>\n",
       "</table>\n",
       "</div>"
      ],
      "text/plain": [
       "               age  education-num          sex  capital-gain  capital-loss  \\\n",
       "count  3500.000000    3500.000000  3500.000000   3500.000000   3500.000000   \n",
       "mean     38.630857      10.063714     0.673143   1047.093429     87.524571   \n",
       "std      13.670364       2.529551     0.469132   6985.994506    399.293846   \n",
       "min      17.000000       1.000000     0.000000      0.000000      0.000000   \n",
       "25%      28.000000       9.000000     0.000000      0.000000      0.000000   \n",
       "50%      37.000000      10.000000     1.000000      0.000000      0.000000   \n",
       "75%      48.000000      12.000000     1.000000      0.000000      0.000000   \n",
       "max      90.000000      16.000000     1.000000  99999.000000   3004.000000   \n",
       "\n",
       "       hours-per-week  native-country1  occupation1   workclass1  \\\n",
       "count     3500.000000      3500.000000  3500.000000  3500.000000   \n",
       "mean        40.654286        34.352000     5.772571     3.082571   \n",
       "std         12.075542         6.108487     4.016434     1.108972   \n",
       "min          1.000000         0.000000     0.000000     0.000000   \n",
       "25%         40.000000        36.000000     2.000000     3.000000   \n",
       "50%         40.000000        36.000000     6.000000     3.000000   \n",
       "75%         45.000000        36.000000     9.000000     3.000000   \n",
       "max         99.000000        38.000000    13.000000     7.000000   \n",
       "\n",
       "       relationship1        race1  marital-status2   education1  \n",
       "count    3500.000000  3500.000000      3500.000000  3500.000000  \n",
       "mean        1.433429     3.662286         0.474286    10.306000  \n",
       "std         1.594637     0.856163         0.499410     3.907814  \n",
       "min         0.000000     0.000000         0.000000     0.000000  \n",
       "25%         0.000000     4.000000         0.000000     9.000000  \n",
       "50%         1.000000     4.000000         0.000000    11.000000  \n",
       "75%         3.000000     4.000000         1.000000    12.000000  \n",
       "max         5.000000     4.000000         1.000000    15.000000  "
      ]
     },
     "execution_count": 46,
     "metadata": {
      "tags": []
     },
     "output_type": "execute_result"
    }
   ],
   "source": [
    "X_train.describe()"
   ]
  },
  {
   "cell_type": "code",
   "execution_count": null,
   "metadata": {
    "id": "TUO7VXLhdimq",
    "outputId": "cec32a22-d1d8-4ec3-bd30-549912315c63",
    "scrolled": true
   },
   "outputs": [
    {
     "data": {
      "text/html": [
       "<div>\n",
       "<style scoped>\n",
       "    .dataframe tbody tr th:only-of-type {\n",
       "        vertical-align: middle;\n",
       "    }\n",
       "\n",
       "    .dataframe tbody tr th {\n",
       "        vertical-align: top;\n",
       "    }\n",
       "\n",
       "    .dataframe thead th {\n",
       "        text-align: right;\n",
       "    }\n",
       "</style>\n",
       "<table border=\"1\" class=\"dataframe\">\n",
       "  <thead>\n",
       "    <tr style=\"text-align: right;\">\n",
       "      <th></th>\n",
       "      <th>age</th>\n",
       "      <th>education-num</th>\n",
       "      <th>sex</th>\n",
       "      <th>capital-gain</th>\n",
       "      <th>capital-loss</th>\n",
       "      <th>hours-per-week</th>\n",
       "      <th>native-country1</th>\n",
       "      <th>occupation1</th>\n",
       "      <th>workclass1</th>\n",
       "      <th>relationship1</th>\n",
       "      <th>race1</th>\n",
       "      <th>marital-status2</th>\n",
       "      <th>education1</th>\n",
       "    </tr>\n",
       "  </thead>\n",
       "  <tbody>\n",
       "    <tr>\n",
       "      <th>count</th>\n",
       "      <td>1500.000000</td>\n",
       "      <td>1500.000000</td>\n",
       "      <td>1500.000000</td>\n",
       "      <td>1500.000000</td>\n",
       "      <td>1500.000000</td>\n",
       "      <td>1500.000000</td>\n",
       "      <td>1500.000000</td>\n",
       "      <td>1500.000000</td>\n",
       "      <td>1500.000000</td>\n",
       "      <td>1500.000000</td>\n",
       "      <td>1500.000000</td>\n",
       "      <td>1500.000000</td>\n",
       "      <td>1500.000000</td>\n",
       "    </tr>\n",
       "    <tr>\n",
       "      <th>mean</th>\n",
       "      <td>38.714667</td>\n",
       "      <td>10.068000</td>\n",
       "      <td>0.678667</td>\n",
       "      <td>1237.048667</td>\n",
       "      <td>95.885333</td>\n",
       "      <td>40.360667</td>\n",
       "      <td>34.385333</td>\n",
       "      <td>5.611333</td>\n",
       "      <td>3.123333</td>\n",
       "      <td>1.477333</td>\n",
       "      <td>3.669333</td>\n",
       "      <td>0.470000</td>\n",
       "      <td>10.315333</td>\n",
       "    </tr>\n",
       "    <tr>\n",
       "      <th>std</th>\n",
       "      <td>13.767629</td>\n",
       "      <td>2.624494</td>\n",
       "      <td>0.467144</td>\n",
       "      <td>8811.886493</td>\n",
       "      <td>415.398278</td>\n",
       "      <td>12.337371</td>\n",
       "      <td>6.045264</td>\n",
       "      <td>4.094319</td>\n",
       "      <td>1.091597</td>\n",
       "      <td>1.624986</td>\n",
       "      <td>0.840911</td>\n",
       "      <td>0.499266</td>\n",
       "      <td>3.870127</td>\n",
       "    </tr>\n",
       "    <tr>\n",
       "      <th>min</th>\n",
       "      <td>17.000000</td>\n",
       "      <td>1.000000</td>\n",
       "      <td>0.000000</td>\n",
       "      <td>0.000000</td>\n",
       "      <td>0.000000</td>\n",
       "      <td>1.000000</td>\n",
       "      <td>0.000000</td>\n",
       "      <td>0.000000</td>\n",
       "      <td>0.000000</td>\n",
       "      <td>0.000000</td>\n",
       "      <td>0.000000</td>\n",
       "      <td>0.000000</td>\n",
       "      <td>0.000000</td>\n",
       "    </tr>\n",
       "    <tr>\n",
       "      <th>25%</th>\n",
       "      <td>27.000000</td>\n",
       "      <td>9.000000</td>\n",
       "      <td>0.000000</td>\n",
       "      <td>0.000000</td>\n",
       "      <td>0.000000</td>\n",
       "      <td>40.000000</td>\n",
       "      <td>36.000000</td>\n",
       "      <td>2.000000</td>\n",
       "      <td>3.000000</td>\n",
       "      <td>0.000000</td>\n",
       "      <td>4.000000</td>\n",
       "      <td>0.000000</td>\n",
       "      <td>9.000000</td>\n",
       "    </tr>\n",
       "    <tr>\n",
       "      <th>50%</th>\n",
       "      <td>37.000000</td>\n",
       "      <td>10.000000</td>\n",
       "      <td>1.000000</td>\n",
       "      <td>0.000000</td>\n",
       "      <td>0.000000</td>\n",
       "      <td>40.000000</td>\n",
       "      <td>36.000000</td>\n",
       "      <td>5.000000</td>\n",
       "      <td>3.000000</td>\n",
       "      <td>1.000000</td>\n",
       "      <td>4.000000</td>\n",
       "      <td>0.000000</td>\n",
       "      <td>11.000000</td>\n",
       "    </tr>\n",
       "    <tr>\n",
       "      <th>75%</th>\n",
       "      <td>48.000000</td>\n",
       "      <td>12.000000</td>\n",
       "      <td>1.000000</td>\n",
       "      <td>0.000000</td>\n",
       "      <td>0.000000</td>\n",
       "      <td>45.000000</td>\n",
       "      <td>36.000000</td>\n",
       "      <td>9.000000</td>\n",
       "      <td>3.000000</td>\n",
       "      <td>3.000000</td>\n",
       "      <td>4.000000</td>\n",
       "      <td>1.000000</td>\n",
       "      <td>13.000000</td>\n",
       "    </tr>\n",
       "    <tr>\n",
       "      <th>max</th>\n",
       "      <td>90.000000</td>\n",
       "      <td>16.000000</td>\n",
       "      <td>1.000000</td>\n",
       "      <td>99999.000000</td>\n",
       "      <td>2559.000000</td>\n",
       "      <td>99.000000</td>\n",
       "      <td>37.000000</td>\n",
       "      <td>13.000000</td>\n",
       "      <td>6.000000</td>\n",
       "      <td>5.000000</td>\n",
       "      <td>4.000000</td>\n",
       "      <td>1.000000</td>\n",
       "      <td>15.000000</td>\n",
       "    </tr>\n",
       "  </tbody>\n",
       "</table>\n",
       "</div>"
      ],
      "text/plain": [
       "               age  education-num          sex  capital-gain  capital-loss  \\\n",
       "count  1500.000000    1500.000000  1500.000000   1500.000000   1500.000000   \n",
       "mean     38.714667      10.068000     0.678667   1237.048667     95.885333   \n",
       "std      13.767629       2.624494     0.467144   8811.886493    415.398278   \n",
       "min      17.000000       1.000000     0.000000      0.000000      0.000000   \n",
       "25%      27.000000       9.000000     0.000000      0.000000      0.000000   \n",
       "50%      37.000000      10.000000     1.000000      0.000000      0.000000   \n",
       "75%      48.000000      12.000000     1.000000      0.000000      0.000000   \n",
       "max      90.000000      16.000000     1.000000  99999.000000   2559.000000   \n",
       "\n",
       "       hours-per-week  native-country1  occupation1   workclass1  \\\n",
       "count     1500.000000      1500.000000  1500.000000  1500.000000   \n",
       "mean        40.360667        34.385333     5.611333     3.123333   \n",
       "std         12.337371         6.045264     4.094319     1.091597   \n",
       "min          1.000000         0.000000     0.000000     0.000000   \n",
       "25%         40.000000        36.000000     2.000000     3.000000   \n",
       "50%         40.000000        36.000000     5.000000     3.000000   \n",
       "75%         45.000000        36.000000     9.000000     3.000000   \n",
       "max         99.000000        37.000000    13.000000     6.000000   \n",
       "\n",
       "       relationship1        race1  marital-status2   education1  \n",
       "count    1500.000000  1500.000000      1500.000000  1500.000000  \n",
       "mean        1.477333     3.669333         0.470000    10.315333  \n",
       "std         1.624986     0.840911         0.499266     3.870127  \n",
       "min         0.000000     0.000000         0.000000     0.000000  \n",
       "25%         0.000000     4.000000         0.000000     9.000000  \n",
       "50%         1.000000     4.000000         0.000000    11.000000  \n",
       "75%         3.000000     4.000000         1.000000    13.000000  \n",
       "max         5.000000     4.000000         1.000000    15.000000  "
      ]
     },
     "execution_count": 47,
     "metadata": {
      "tags": []
     },
     "output_type": "execute_result"
    }
   ],
   "source": [
    "X_test.describe()"
   ]
  },
  {
   "cell_type": "code",
   "execution_count": null,
   "metadata": {
    "id": "dmuaprZwdims",
    "outputId": "3712ac7e-2720-4429-c9ce-07d660637f7d"
   },
   "outputs": [
    {
     "data": {
      "text/plain": [
       "0    2643\n",
       "1     857\n",
       "Name: Expense, dtype: int64"
      ]
     },
     "execution_count": 48,
     "metadata": {
      "tags": []
     },
     "output_type": "execute_result"
    }
   ],
   "source": [
    "y_train.value_counts()"
   ]
  },
  {
   "cell_type": "code",
   "execution_count": null,
   "metadata": {
    "id": "QIp735-Udimt",
    "outputId": "3369f83e-b865-4a72-99c8-a41abeab583f",
    "scrolled": true
   },
   "outputs": [
    {
     "data": {
      "text/plain": [
       "0    1133\n",
       "1     367\n",
       "Name: Expense, dtype: int64"
      ]
     },
     "execution_count": 49,
     "metadata": {
      "tags": []
     },
     "output_type": "execute_result"
    }
   ],
   "source": [
    "y_test.value_counts()"
   ]
  },
  {
   "cell_type": "markdown",
   "metadata": {
    "id": "YvcUOMvBdimu"
   },
   "source": [
    "## Naive Bayes"
   ]
  },
  {
   "cell_type": "code",
   "execution_count": null,
   "metadata": {
    "id": "_U9xm1mLdimv",
    "outputId": "b96a8450-5169-43e8-997b-5e27e39a12d8"
   },
   "outputs": [
    {
     "data": {
      "text/plain": [
       "GaussianNB()"
      ]
     },
     "execution_count": 50,
     "metadata": {
      "tags": []
     },
     "output_type": "execute_result"
    }
   ],
   "source": [
    "# Importing decision tree classifier from sklearn library\n",
    "from sklearn.linear_model import LogisticRegression\n",
    "from sklearn.naive_bayes import GaussianNB\n",
    "\n",
    "# Fitting the decision tree with default hyperparameters, apart from\n",
    "# max_depth which is 5 so that we can plot and read the tree.\n",
    "dt_default = GaussianNB()\n",
    "dt_default.fit(X_train, y_train)"
   ]
  },
  {
   "cell_type": "code",
   "execution_count": null,
   "metadata": {
    "id": "XkwVzrUwdimw",
    "outputId": "976b544b-e203-4d65-f1ad-50f3c896874b"
   },
   "outputs": [
    {
     "name": "stdout",
     "output_type": "stream",
     "text": [
      "              precision    recall  f1-score   support\n",
      "\n",
      "           0       0.82      0.95      0.88      1133\n",
      "           1       0.69      0.37      0.48       367\n",
      "\n",
      "    accuracy                           0.80      1500\n",
      "   macro avg       0.76      0.66      0.68      1500\n",
      "weighted avg       0.79      0.80      0.78      1500\n",
      "\n",
      "0.8046666666666666\n"
     ]
    }
   ],
   "source": [
    "# Let's check the evaluation metrics of our default model\n",
    "\n",
    "# Importing classification report and confusion matrix from sklearn metrics\n",
    "from sklearn.metrics import classification_report, confusion_matrix, accuracy_score\n",
    "\n",
    "# Making predictions\n",
    "y_pred_default = dt_default.predict(X_test)\n",
    "\n",
    "# Printing classification report\n",
    "print(classification_report(y_test, y_pred_default))\n",
    "print(accuracy_score(y_test, y_pred_default))"
   ]
  },
  {
   "cell_type": "markdown",
   "metadata": {
    "id": "gRSNv2_udimy"
   },
   "source": [
    "The overall accuracy is 80.46%. The fit is quite good. As we both the classes of target variable >50K & <=50K are of same importance, we may look into the accuracy as the evaluation matrix of the problem or we can look it the weigthed average f1-score.\n",
    "\n",
    "Weigthed average f1-score is 78 % & Accuracy is 80%\n",
    "\n",
    "We can conclude that the overall fit is quite good.\n"
   ]
  },
  {
   "cell_type": "markdown",
   "metadata": {
    "id": "f51GsXY2dimz"
   },
   "source": [
    "The precison of the base model is 79% with a recall value of 80% \n",
    "\n",
    "F1-score is 79% "
   ]
  },
  {
   "cell_type": "markdown",
   "metadata": {
    "id": "ZEbAr2x5dim0"
   },
   "source": [
    "#Cohens kappa - The kappa statistic is frequently used to test interrater reliability. The importance of rater reliability lies in the fact that it #represents\n",
    "\n",
    "The extent to which the data collected in the study are correct representations of the variables measured."
   ]
  },
  {
   "cell_type": "code",
   "execution_count": null,
   "metadata": {
    "id": "6nCfaPuldim1",
    "outputId": "52b3e9c9-9450-478a-f03f-6ecde3108214"
   },
   "outputs": [
    {
     "data": {
      "text/plain": [
       "0.37133817000045777"
      ]
     },
     "execution_count": 52,
     "metadata": {
      "tags": []
     },
     "output_type": "execute_result"
    }
   ],
   "source": [
    "from sklearn.metrics import cohen_kappa_score\n",
    "cohen_kappa_score(y_test, y_pred_default)"
   ]
  },
  {
   "cell_type": "markdown",
   "metadata": {
    "id": "dCLjOJeLdim2"
   },
   "source": [
    "Kappa score is .371"
   ]
  },
  {
   "cell_type": "markdown",
   "metadata": {
    "id": "mnV5JK-edim4"
   },
   "source": [
    "##### How do you improve the accuracy of the model? \n",
    "\n",
    "The model we hvae consider is a basic model.There are various methods of improving the accuracy such as ,\n",
    "i. We can tune the parameters.\n",
    "ii. We may prepare the data better and so on.\n",
    "\n",
    "##### Write clearly the changes that you will make before re-fitting the model.\n",
    "\n",
    "One of the reason behind the under-performance of the model could be the insufficient proportion of diffrent classes in target variable i.e. >50K & <=50K.\n",
    "\n",
    "We would apply the SMoTE technique on the training set.\n",
    "Using SMoTE technique, we can generate the number of observation in the >50K class in the target variable."
   ]
  },
  {
   "cell_type": "markdown",
   "metadata": {
    "id": "jqf5FShsdim5"
   },
   "source": [
    "## SMOTE"
   ]
  },
  {
   "cell_type": "code",
   "execution_count": null,
   "metadata": {
    "id": "WTaIBR4rdim5"
   },
   "outputs": [],
   "source": [
    "# Applying SMoTE on the training set\n",
    "from imblearn.over_sampling import SMOTE\n",
    "smt = SMOTE(random_state=0)\n",
    "X_train,y_train = smt.fit_sample(X_train,y_train)"
   ]
  },
  {
   "cell_type": "code",
   "execution_count": null,
   "metadata": {
    "id": "yeZPHssCdim6",
    "outputId": "7f36fd6d-1545-479a-957a-aa285320b1b4"
   },
   "outputs": [
    {
     "data": {
      "text/plain": [
       "1    2643\n",
       "0    2643\n",
       "Name: Expense, dtype: int64"
      ]
     },
     "execution_count": 54,
     "metadata": {
      "tags": []
     },
     "output_type": "execute_result"
    }
   ],
   "source": [
    "y_train.value_counts()"
   ]
  },
  {
   "cell_type": "markdown",
   "metadata": {
    "id": "dfs5isS_dim7"
   },
   "source": [
    "## Naive Bayes"
   ]
  },
  {
   "cell_type": "code",
   "execution_count": null,
   "metadata": {
    "id": "IZtQ6N1mdim9",
    "outputId": "8be3a1a9-8313-41d9-a704-7cfa9d1ca363"
   },
   "outputs": [
    {
     "data": {
      "text/plain": [
       "GaussianNB()"
      ]
     },
     "execution_count": 55,
     "metadata": {
      "tags": []
     },
     "output_type": "execute_result"
    }
   ],
   "source": [
    "dt_default = GaussianNB()\n",
    "dt_default.fit(X_train, y_train)"
   ]
  },
  {
   "cell_type": "code",
   "execution_count": null,
   "metadata": {
    "id": "Zh2QcXzQdim-",
    "outputId": "1146877b-3046-4842-fb26-cb85ba3ef088"
   },
   "outputs": [
    {
     "name": "stdout",
     "output_type": "stream",
     "text": [
      "              precision    recall  f1-score   support\n",
      "\n",
      "           0       0.84      0.93      0.88      1133\n",
      "           1       0.67      0.44      0.54       367\n",
      "\n",
      "    accuracy                           0.81      1500\n",
      "   macro avg       0.76      0.69      0.71      1500\n",
      "weighted avg       0.80      0.81      0.80      1500\n",
      "\n",
      "0.8113333333333334\n"
     ]
    }
   ],
   "source": [
    "# Let's check the evaluation metrics of our default model\n",
    "\n",
    "# Importing classification report and confusion matrix from sklearn metrics\n",
    "from sklearn.metrics import classification_report, confusion_matrix, accuracy_score\n",
    "\n",
    "# Making predictions\n",
    "y_pred_default = dt_default.predict(X_test)\n",
    "\n",
    "# Printing classification report\n",
    "print(classification_report(y_test, y_pred_default))\n",
    "print(accuracy_score(y_test, y_pred_default))"
   ]
  },
  {
   "cell_type": "markdown",
   "metadata": {
    "id": "SaP8a7BSdinA"
   },
   "source": [
    "As even after applying SMoTE the model did not improve, now,we need to think about applying a different model.\n",
    "\n",
    "We would fit Decision Tree on the dataset"
   ]
  },
  {
   "cell_type": "markdown",
   "metadata": {
    "id": "h5m7JS-4dinC"
   },
   "source": [
    "## Decision Tree"
   ]
  },
  {
   "cell_type": "code",
   "execution_count": null,
   "metadata": {
    "id": "dlQrHW4FdinC",
    "outputId": "8b985b29-2104-40dd-948b-07c1138bc97d"
   },
   "outputs": [
    {
     "data": {
      "text/plain": [
       "DecisionTreeClassifier()"
      ]
     },
     "execution_count": 57,
     "metadata": {
      "tags": []
     },
     "output_type": "execute_result"
    }
   ],
   "source": [
    "# Importing decision tree classifier from sklearn library\n",
    "from sklearn.tree import DecisionTreeClassifier\n",
    "\n",
    "# Fitting the decision tree with default hyperparameters, apart from\n",
    "# max_depth which is 5 so that we can plot and read the tree.\n",
    "dt_default = DecisionTreeClassifier()\n",
    "dt_default.fit(X_train, y_train)"
   ]
  },
  {
   "cell_type": "code",
   "execution_count": null,
   "metadata": {
    "id": "8ICoyTE2dinD",
    "outputId": "94078377-1206-4aef-888b-556424d9d7d3"
   },
   "outputs": [
    {
     "name": "stdout",
     "output_type": "stream",
     "text": [
      "              precision    recall  f1-score   support\n",
      "\n",
      "           0       0.87      0.85      0.86      1133\n",
      "           1       0.57      0.61      0.59       367\n",
      "\n",
      "    accuracy                           0.79      1500\n",
      "   macro avg       0.72      0.73      0.72      1500\n",
      "weighted avg       0.80      0.79      0.79      1500\n",
      "\n",
      "0.792\n"
     ]
    }
   ],
   "source": [
    "# Let's check the evaluation metrics of our default model\n",
    "\n",
    "# Importing classification report and confusion matrix from sklearn metrics\n",
    "from sklearn.metrics import classification_report, confusion_matrix, accuracy_score\n",
    "\n",
    "# Making predictions\n",
    "y_pred_default = dt_default.predict(X_test)\n",
    "\n",
    "# Printing classification report\n",
    "print(classification_report(y_test, y_pred_default))\n",
    "print(accuracy_score(y_test, y_pred_default))"
   ]
  },
  {
   "cell_type": "markdown",
   "metadata": {
    "id": "GQ9Dmh_NdinE"
   },
   "source": [
    "## Logistic Regression"
   ]
  },
  {
   "cell_type": "code",
   "execution_count": null,
   "metadata": {
    "id": "Ay8FJF-YdinG"
   },
   "outputs": [],
   "source": [
    "import statsmodels\n",
    "import statsmodels.api as sm"
   ]
  },
  {
   "cell_type": "code",
   "execution_count": null,
   "metadata": {
    "id": "EEWHUELtdinH",
    "outputId": "feae2a75-5e37-4dc5-a403-2fefe38cb298"
   },
   "outputs": [
    {
     "name": "stdout",
     "output_type": "stream",
     "text": [
      "Optimization terminated successfully.\n",
      "         Current function value: 0.469646\n",
      "         Iterations 8\n",
      "                           Logit Regression Results                           \n",
      "==============================================================================\n",
      "Dep. Variable:                Expense   No. Observations:                 5286\n",
      "Model:                          Logit   Df Residuals:                     5273\n",
      "Method:                           MLE   Df Model:                           12\n",
      "Date:                Tue, 01 Dec 2020   Pseudo R-squ.:                  0.3224\n",
      "Time:                        12:51:28   Log-Likelihood:                -2482.5\n",
      "converged:                       True   LL-Null:                       -3664.0\n",
      "Covariance Type:            nonrobust   LLR p-value:                     0.000\n",
      "===================================================================================\n",
      "                      coef    std err          z      P>|z|      [0.025      0.975]\n",
      "-----------------------------------------------------------------------------------\n",
      "age                 0.0108      0.003      3.918      0.000       0.005       0.016\n",
      "education-num       0.1962      0.015     13.215      0.000       0.167       0.225\n",
      "sex                -0.7927      0.110     -7.233      0.000      -1.008      -0.578\n",
      "capital-gain        0.0003    2.2e-05     14.179      0.000       0.000       0.000\n",
      "capital-loss        0.0007   8.37e-05      8.637      0.000       0.001       0.001\n",
      "hours-per-week      0.0154      0.003      4.888      0.000       0.009       0.022\n",
      "native-country1    -0.0390      0.006     -7.076      0.000      -0.050      -0.028\n",
      "occupation1        -0.0055      0.009     -0.620      0.535      -0.023       0.012\n",
      "workclass1         -0.3708      0.033    -11.334      0.000      -0.435      -0.307\n",
      "relationship1      -0.4434      0.031    -14.495      0.000      -0.503      -0.383\n",
      "race1              -0.1419      0.042     -3.370      0.001      -0.224      -0.059\n",
      "marital-status2     1.7302      0.084     20.531      0.000       1.565       1.895\n",
      "education1         -0.0371      0.011     -3.527      0.000      -0.058      -0.016\n",
      "===================================================================================\n"
     ]
    }
   ],
   "source": [
    "# build the model on train data (X_train and y_train)\n",
    "# use fit() to fit the logistic regression model\n",
    "logreg = sm.Logit(y_train, X_train).fit()\n",
    "\n",
    "# print the summary of the model\n",
    "print(logreg.summary())"
   ]
  },
  {
   "cell_type": "code",
   "execution_count": null,
   "metadata": {
    "id": "UP5DA9_qebpC",
    "outputId": "ed43c9fc-7692-40d7-cdb7-e6c431295fde",
    "scrolled": true
   },
   "outputs": [
    {
     "data": {
      "text/plain": [
       "2315    0.160602\n",
       "4585    0.777612\n",
       "2829    0.309593\n",
       "3888    0.401564\n",
       "1081    0.217180\n",
       "dtype: float64"
      ]
     },
     "execution_count": 61,
     "metadata": {
      "tags": []
     },
     "output_type": "execute_result"
    }
   ],
   "source": [
    "# let 'y_pred_prob' be the predicted values of y\n",
    "y_pred_prob = logreg.predict(X_test)\n",
    "\n",
    "# print the y_pred_prob\n",
    "y_pred_prob.head()"
   ]
  },
  {
   "cell_type": "markdown",
   "metadata": {
    "id": "t5H2Sp3JdinK"
   },
   "source": [
    "Since the target variable can take only two values either 0 or 1. We decide the cut-off of 0.5. i.e. if 'y_pred_prob' is less than 0.5, then consider it to be 0 else consider it to be 1."
   ]
  },
  {
   "cell_type": "code",
   "execution_count": null,
   "metadata": {
    "id": "s-aj8refebpI"
   },
   "outputs": [],
   "source": [
    "# convert probabilities to 0 and 1 using 'if_else'\n",
    "y_pred = [ 0 if x < 0.5 else 1 for x in y_pred_prob]"
   ]
  },
  {
   "cell_type": "code",
   "execution_count": null,
   "metadata": {
    "id": "5oefAx8jdinL",
    "outputId": "f786f9a0-ca4b-41b6-9c5f-036f38da07b5"
   },
   "outputs": [
    {
     "data": {
      "text/plain": [
       "[0, 1, 0, 0, 0]"
      ]
     },
     "execution_count": 63,
     "metadata": {
      "tags": []
     },
     "output_type": "execute_result"
    }
   ],
   "source": [
    "# print the first five observations of y_pred\n",
    "y_pred[0:5]"
   ]
  },
  {
   "cell_type": "markdown",
   "metadata": {
    "id": "PVpSGCghdinM"
   },
   "source": [
    "#### Plot the confusion matrix."
   ]
  },
  {
   "cell_type": "code",
   "execution_count": null,
   "metadata": {
    "id": "Av39nL7SebpS",
    "outputId": "eb72d174-cce1-49f2-abcc-b8a6111b2008"
   },
   "outputs": [
    {
     "data": {
      "image/png": "[encoded data removed]",
      "text/plain": [
       "<Figure size 432x288 with 1 Axes>"
      ]
     },
     "metadata": {
      "tags": []
     },
     "output_type": "display_data"
    }
   ],
   "source": [
    "# create a confusion matrix\n",
    "# pass the actual and predicted target values to the confusion_matrix()\n",
    "cm = confusion_matrix(y_test, y_pred)\n",
    "\n",
    "# label the confusion matrix  \n",
    "# pass the matrix as 'data'\n",
    "# pass the required column names to the parameter, 'columns'\n",
    "# pass the required row names to the parameter, 'index'\n",
    "conf_matrix = pd.DataFrame(data = cm,columns = ['Predicted:0','Predicted:1'], index = ['Actual:0','Actual:1'])\n",
    "\n",
    "# plot a heatmap to visualize the confusion matrix\n",
    "# 'annot' prints the value of each grid \n",
    "# 'fmt = d' returns the integer value in each grid\n",
    "# 'cmap' assigns color to each grid\n",
    "# as we do not require different colors for each grid in the heatmap,\n",
    "# use 'ListedColormap' to assign the specified color to the grid\n",
    "# 'cbar = False' will not return the color bar to the right side of the heatmap\n",
    "# 'linewidths' assigns the width to the line that divides each grid\n",
    "# 'annot_kws = {'size':25})' assigns the font size of the annotated text \n",
    "sns.heatmap(conf_matrix, annot = True, fmt = 'd', cbar = False, \n",
    "            linewidths = 0.1, annot_kws = {'size':25})\n",
    "\n",
    "# set the font size of x-axis ticks using 'fontsize'\n",
    "plt.xticks(fontsize = 20)\n",
    "\n",
    "# set the font size of y-axis ticks using 'fontsize'\n",
    "plt.yticks(fontsize = 20)\n",
    "\n",
    "# display the plot\n",
    "plt.show()"
   ]
  },
  {
   "cell_type": "code",
   "execution_count": null,
   "metadata": {
    "id": "6WC11alqdinP"
   },
   "outputs": [],
   "source": [
    "# True Negatives are denoted by 'TN'\n",
    "# Actual 'O' values which are classified correctly\n",
    "TN = cm[0,0]\n",
    "\n",
    "# True Positives are denoted by 'TP'\n",
    "# Actual '1' values which are classified correctly\n",
    "TP = cm[1,1]\n",
    "\n",
    "# False Positives are denoted by 'FP'\n",
    "# it is the type 1 error\n",
    "# Actual 'O' values which are classified wrongly as '1'\n",
    "FP = cm[0,1]\n",
    "\n",
    "# False Negatives are denoted by 'FN'\n",
    "# it is the type 2 error\n",
    "# Actual '1' values which are classified wrongly as '0'\n",
    "FN = cm[1,0]"
   ]
  },
  {
   "cell_type": "markdown",
   "metadata": {
    "id": "Q6eXdeGgdinQ"
   },
   "source": [
    "**Compute various performance metrics.**"
   ]
  },
  {
   "cell_type": "markdown",
   "metadata": {
    "id": "FNeOsshJdinR"
   },
   "source": [
    "**Precision:** It is defined as the ratio of true positives to the total positive predictions."
   ]
  },
  {
   "cell_type": "code",
   "execution_count": null,
   "metadata": {
    "id": "vnvicy66dinR",
    "outputId": "6f35a734-931d-4dc2-b2f8-506e381151bc"
   },
   "outputs": [
    {
     "data": {
      "text/plain": [
       "0.48327759197324416"
      ]
     },
     "execution_count": 66,
     "metadata": {
      "tags": []
     },
     "output_type": "execute_result"
    }
   ],
   "source": [
    "# calculate the precision value\n",
    "precision = TP / (TP+FP)\n",
    "\n",
    "# print the value\n",
    "precision"
   ]
  },
  {
   "cell_type": "markdown",
   "metadata": {
    "id": "8ID78inpdinU"
   },
   "source": [
    "**Recall:** It is the ratio of true positives to the total actual positive observations. It is also known as, `Sensitivity` or `True Positive Rate`."
   ]
  },
  {
   "cell_type": "code",
   "execution_count": null,
   "metadata": {
    "id": "3qe68y-MdinU",
    "outputId": "f9ff7e29-fa3b-4916-c5c3-b921b82ceca9"
   },
   "outputs": [
    {
     "data": {
      "text/plain": [
       "0.7874659400544959"
      ]
     },
     "execution_count": 67,
     "metadata": {
      "tags": []
     },
     "output_type": "execute_result"
    }
   ],
   "source": [
    "# calculate the recall value\n",
    "recall = TP / (TP+FN)\n",
    "\n",
    "# print the value\n",
    "recall"
   ]
  },
  {
   "cell_type": "markdown",
   "metadata": {
    "id": "HcvAVapfdinV"
   },
   "source": [
    "**Specificity:** It is the ratio of true negatives to the total actual negative observations."
   ]
  },
  {
   "cell_type": "code",
   "execution_count": null,
   "metadata": {
    "id": "nwMkGCuwdinX",
    "outputId": "38a540e3-5b64-4e4c-f850-738cf6ee5fba"
   },
   "outputs": [
    {
     "data": {
      "text/plain": [
       "0.7272727272727273"
      ]
     },
     "execution_count": 68,
     "metadata": {
      "tags": []
     },
     "output_type": "execute_result"
    }
   ],
   "source": [
    "# calculate the specificity value\n",
    "specificity = TN / (TN+FP)\n",
    "\n",
    "# print the value\n",
    "specificity"
   ]
  },
  {
   "cell_type": "markdown",
   "metadata": {
    "id": "Od1LIbzbdinY"
   },
   "source": [
    "**f1-score:** It is defined as the harmonic mean of precision and recall."
   ]
  },
  {
   "cell_type": "code",
   "execution_count": null,
   "metadata": {
    "id": "_rx3DpQ1dinZ",
    "outputId": "02c65103-145b-442b-fc38-af13bd7f8ba1"
   },
   "outputs": [
    {
     "data": {
      "text/plain": [
       "0.5989637305699481"
      ]
     },
     "execution_count": 69,
     "metadata": {
      "tags": []
     },
     "output_type": "execute_result"
    }
   ],
   "source": [
    "# calculate the f1_score\n",
    "f1_score = 2*((precision*recall)/(precision+recall))\n",
    "\n",
    "# print the f1_score\n",
    "f1_score"
   ]
  },
  {
   "cell_type": "markdown",
   "metadata": {
    "id": "op-fGkcSdina"
   },
   "source": [
    "**Accuracy:** It is the ratio of correct predictions (i.e. TN+TP) to the total observations. According to the confusion matrix, it is the ratio of the sum of diagonal elements to the sum of all the in the matrix. It is not a very good measure if the dataset is imbalanced."
   ]
  },
  {
   "cell_type": "code",
   "execution_count": null,
   "metadata": {
    "id": "s_M8nEMDdinb",
    "outputId": "37ca237c-84af-432d-ed85-4f33afc4a50f"
   },
   "outputs": [
    {
     "data": {
      "text/plain": [
       "0.742"
      ]
     },
     "execution_count": 70,
     "metadata": {
      "tags": []
     },
     "output_type": "execute_result"
    }
   ],
   "source": [
    "# calculate the accuracy\n",
    "accuracy = (TN+TP) / (TN+FP+FN+TP)\n",
    "\n",
    "# print the accuracy\n",
    "accuracy"
   ]
  },
  {
   "cell_type": "markdown",
   "metadata": {
    "id": "K3LlVVo_dinc"
   },
   "source": [
    "**Interpretation:** For our dataset, both the values for accuracy and f1-score are equal. We can say that our model is 74.2% accurate."
   ]
  },
  {
   "cell_type": "markdown",
   "metadata": {
    "id": "z0zu6qQkdind"
   },
   "source": [
    "## K-Nearest Neighbour"
   ]
  },
  {
   "cell_type": "code",
   "execution_count": null,
   "metadata": {
    "id": "SwQzDUvwdine"
   },
   "outputs": [],
   "source": [
    "# instantiate the 'KNeighborsClassifier'\n",
    "# n_neighnors: number of neighbors to consider\n",
    "# default metric is minkowski, and with p=2 it is equivalent to the euclidean metric\n",
    "knn_classification = KNeighborsClassifier(n_neighbors = 7)\n",
    "\n",
    "# fit the model using fit() on train data\n",
    "knn_model = knn_classification.fit(X_train, y_train)"
   ]
  },
  {
   "cell_type": "markdown",
   "metadata": {
    "id": "xRHy91dldinf"
   },
   "source": [
    "#### Create a generalized function to calculate the performance metrics for the test set."
   ]
  },
  {
   "cell_type": "code",
   "execution_count": null,
   "metadata": {
    "id": "HBBcDEmIding"
   },
   "outputs": [],
   "source": [
    "# create a generalized function to calculate the performance metrics values for test set\n",
    "def get_test_report(model):\n",
    "    \n",
    "    # for test set:\n",
    "    # test_pred: prediction made by the model on the test dataset 'X_test'\n",
    "    # y_test: actual values of the target variable for the test dataset\n",
    "\n",
    "    # predict the output of the target variable from the test data \n",
    "    test_pred = model.predict(X_test)\n",
    "\n",
    "    # return the classification report for test data\n",
    "    return(classification_report(y_test, test_pred))"
   ]
  },
  {
   "cell_type": "markdown",
   "metadata": {
    "id": "XZ1MZF8-dinh"
   },
   "source": [
    "#### Define a function to plot the confusion matrix."
   ]
  },
  {
   "cell_type": "code",
   "execution_count": null,
   "metadata": {
    "id": "EoJCOlk8dini"
   },
   "outputs": [],
   "source": [
    "# define a to plot a confusion matrix for the model\n",
    "def plot_confusion_matrix(model):\n",
    "    \n",
    "    # predict the target values using X_test\n",
    "    y_pred = model.predict(X_test)\n",
    "    \n",
    "    # create a confusion matrix\n",
    "    # pass the actual and predicted target values to the confusion_matrix()\n",
    "    cm = confusion_matrix(y_test, y_pred)\n",
    "\n",
    "    # label the confusion matrix  \n",
    "    # pass the matrix as 'data'\n",
    "    # pass the required column names to the parameter, 'columns'\n",
    "    # pass the required row names to the parameter, 'index'\n",
    "    conf_matrix = pd.DataFrame(data = cm,columns = ['Predicted:0','Predicted:1'], index = ['Actual:0','Actual:1'])\n",
    "\n",
    "    # plot a heatmap to visualize the confusion matrix\n",
    "    # 'annot' prints the value of each grid \n",
    "    # 'fmt = d' returns the integer value in each grid\n",
    "    # 'cmap' assigns color to each grid\n",
    "    # as we do not require different colors for each grid in the heatmap,\n",
    "    # use 'ListedColormap' to assign the specified color to the grid\n",
    "    # 'cbar = False' will not return the color bar to the right side of the heatmap\n",
    "    # 'linewidths' assigns the width to the line that divides each grid\n",
    "    # 'annot_kws = {'size':25})' assigns the font size of the annotated text \n",
    "    sns.heatmap(conf_matrix, annot = True, fmt = 'd', cbar = False, \n",
    "                linewidths = 0.1, annot_kws = {'size':25})\n",
    "\n",
    "    # set the font size of x-axis ticks using 'fontsize'\n",
    "    plt.xticks(fontsize = 20)\n",
    "\n",
    "    # set the font size of y-axis ticks using 'fontsize'\n",
    "    plt.yticks(fontsize = 20)\n",
    "\n",
    "    # display the plot\n",
    "    plt.show()"
   ]
  },
  {
   "cell_type": "markdown",
   "metadata": {
    "id": "RL_nZxafdinj"
   },
   "source": [
    "#### Define a function to plot the ROC curve."
   ]
  },
  {
   "cell_type": "code",
   "execution_count": null,
   "metadata": {
    "id": "BUZSWEx2dinl"
   },
   "outputs": [],
   "source": [
    "# define a function to plot the ROC curve and print the ROC-AUC score\n",
    "def plot_roc(model):\n",
    "    \n",
    "    # predict the probability of target variable using X_test\n",
    "    # consider the probability of positive class by subsetting with '[:,1]'\n",
    "    y_pred_prob = model.predict_proba(X_test)[:,1]\n",
    "    \n",
    "    # the roc_curve() returns the values for false positive rate, true positive rate and threshold\n",
    "    # pass the actual target values and predicted probabilities to the function\n",
    "    fpr, tpr, thresholds = roc_curve(y_test, y_pred_prob)\n",
    "\n",
    "    # plot the ROC curve\n",
    "    plt.plot(fpr, tpr)\n",
    "\n",
    "    # set limits for x and y axes\n",
    "    plt.xlim([0.0, 1.0])\n",
    "    plt.ylim([0.0, 1.0])\n",
    "\n",
    "    # plot the straight line showing worst prediction for the model\n",
    "    plt.plot([0, 1], [0, 1],'r--')\n",
    "\n",
    "    # add plot and axes labels\n",
    "    # set text size using 'fontsize'\n",
    "    plt.title('ROC curve for Cancer Prediction Classifier', fontsize = 15)\n",
    "    plt.xlabel('False positive rate (1-Specificity)', fontsize = 15)\n",
    "    plt.ylabel('True positive rate (Sensitivity)', fontsize = 15)\n",
    "\n",
    "    # add the AUC score to the plot\n",
    "    # 'x' and 'y' gives position of the text\n",
    "    # 's' is the text \n",
    "    # use round() to round-off the AUC score upto 4 digits\n",
    "    plt.text(x = 0.02, y = 0.9, s = ('AUC Score:',round(roc_auc_score(y_test, y_pred_prob),4)))\n",
    "\n",
    "    # plot the grid\n",
    "    plt.grid(True)"
   ]
  },
  {
   "cell_type": "markdown",
   "metadata": {
    "id": "h0GFWLsJdinm"
   },
   "source": [
    "#### Build a confusion matrix."
   ]
  },
  {
   "cell_type": "code",
   "execution_count": null,
   "metadata": {
    "id": "izVb5i1mdinn",
    "outputId": "ac5d6c08-bc90-4c95-9b56-a77b19fc1b65"
   },
   "outputs": [
    {
     "data": {
      "image/png": "[encoded data removed]",
      "text/plain": [
       "<Figure size 432x288 with 1 Axes>"
      ]
     },
     "metadata": {
      "tags": []
     },
     "output_type": "display_data"
    }
   ],
   "source": [
    "# call the function to plot the confusion matrix\n",
    "# pass the knn model to the function\n",
    "plot_confusion_matrix(knn_model)"
   ]
  },
  {
   "cell_type": "markdown",
   "metadata": {
    "id": "h6ko4AbRdino"
   },
   "source": [
    "**Calculate performance measures on the test set.**"
   ]
  },
  {
   "cell_type": "code",
   "execution_count": null,
   "metadata": {
    "id": "c_0n9tJZdinq",
    "outputId": "55bbe678-1322-40e9-c6ab-da56618ccd15",
    "scrolled": false
   },
   "outputs": [
    {
     "name": "stdout",
     "output_type": "stream",
     "text": [
      "              precision    recall  f1-score   support\n",
      "\n",
      "           0       0.90      0.75      0.82      1133\n",
      "           1       0.49      0.74      0.59       367\n",
      "\n",
      "    accuracy                           0.75      1500\n",
      "   macro avg       0.69      0.74      0.70      1500\n",
      "weighted avg       0.80      0.75      0.76      1500\n",
      "\n"
     ]
    }
   ],
   "source": [
    "# compute the performance measures on test data\n",
    "# call the function 'get_test_report'\n",
    "# pass the knn model to the function\n",
    "test_report = get_test_report(knn_model)\n",
    "\n",
    "# print the performace measures\n",
    "print(test_report)"
   ]
  },
  {
   "cell_type": "markdown",
   "metadata": {
    "id": "DuhcCMh0dinr"
   },
   "source": [
    "**Interpretation:** The accuracy is 75% for this model."
   ]
  },
  {
   "cell_type": "markdown",
   "metadata": {
    "id": "XZmeddeqdinr"
   },
   "source": [
    "**Plot the ROC curve.**"
   ]
  },
  {
   "cell_type": "code",
   "execution_count": null,
   "metadata": {
    "id": "8NGx9JCXdins",
    "outputId": "b7398d57-54b8-4f54-d7a4-ef8ea43ecebe",
    "scrolled": false
   },
   "outputs": [
    {
     "data": {
      "image/png": "[encoded data removed]",
      "text/plain": [
       "<Figure size 432x288 with 1 Axes>"
      ]
     },
     "metadata": {
      "tags": []
     },
     "output_type": "display_data"
    }
   ],
   "source": [
    "from sklearn.metrics import roc_curve\n",
    "from sklearn.metrics import roc_auc_score\n",
    "# call the function to plot the ROC curve\n",
    "# pass the knn model to the function\n",
    "plot_roc(knn_model)"
   ]
  },
  {
   "cell_type": "markdown",
   "metadata": {
    "id": "jNLn2k6fdinu"
   },
   "source": [
    "**Interpretation:** The red dotted line represents the ROC curve of a purely random classifier; a good classifier stays as far away from that line as possible (toward the top-left corner).<br>\n",
    "From the above plot, we can see that our classifier (knn_model with n_neighbors = 7) is away from the dotted line; with the AUC score 0.812."
   ]
  },
  {
   "cell_type": "markdown",
   "metadata": {
    "id": "M1jUat9odinv"
   },
   "source": [
    "### Optimal Value of K (using GridSearchCV)"
   ]
  },
  {
   "cell_type": "code",
   "execution_count": null,
   "metadata": {
    "id": "eoVZA-k-dinv",
    "outputId": "b360a096-3432-4279-ec07-a1a99d43cfe3"
   },
   "outputs": [
    {
     "name": "stdout",
     "output_type": "stream",
     "text": [
      "Best parameters for KNN Classifier:  {'metric': 'manhattan', 'n_neighbors': 1} \n",
      "\n"
     ]
    }
   ],
   "source": [
    "# create a dictionary with hyperparameters and its values\n",
    "# n_neighnors: number of neighbors to consider\n",
    "# usually, we consider the odd value of 'n_neighnors' to avoid the equal number of nearest points with more than one class\n",
    "# pass the different distance metrics to the parameter, 'metric'\n",
    "tuned_paramaters = {'n_neighbors': np.arange(1, 25, 2),\n",
    "                   'metric': ['hamming','euclidean','manhattan','Chebyshev']}\n",
    " \n",
    "# instantiate the 'KNeighborsClassifier' \n",
    "knn_classification = KNeighborsClassifier()\n",
    "\n",
    "# use GridSearchCV() to find the optimal value of the hyperparameters\n",
    "# estimator: pass the knn model\n",
    "# param_grid: pass the list 'tuned_parameters'\n",
    "# cv: number of folds in k-fold i.e. here cv = 5\n",
    "# scoring: pass the scoring parameter 'accuracy'\n",
    "knn_grid = GridSearchCV(estimator = knn_classification, \n",
    "                        param_grid = tuned_paramaters, \n",
    "                        cv = 5, \n",
    "                        scoring = 'accuracy')\n",
    "\n",
    "# fit the model on X_train and y_train using fit()\n",
    "knn_grid.fit(X_train, y_train)\n",
    "\n",
    "# get the best parameters\n",
    "print('Best parameters for KNN Classifier: ', knn_grid.best_params_, '\\n')"
   ]
  },
  {
   "cell_type": "markdown",
   "metadata": {
    "id": "iX_M31qcdinw"
   },
   "source": [
    "#### Draw a line plot to see the error rate for each value of K using euclidean distance as a metric of KNN model"
   ]
  },
  {
   "cell_type": "code",
   "execution_count": null,
   "metadata": {
    "id": "E5zNsI4mdiny",
    "outputId": "a947e831-17c9-422a-f5c4-8f38a3663b95"
   },
   "outputs": [
    {
     "data": {
      "image/png": "[encoded data removed]",
      "text/plain": [
       "<Figure size 432x288 with 1 Axes>"
      ]
     },
     "metadata": {
      "tags": []
     },
     "output_type": "display_data"
    }
   ],
   "source": [
    "# consider an empty list to store error rate\n",
    "error_rate = []\n",
    "\n",
    "# use for loop to build a knn model for each K\n",
    "for i in np.arange(1,25,2):\n",
    "    \n",
    "    # setup a knn classifier with k neighbors\n",
    "    # use the 'euclidean' metric \n",
    "    knn = KNeighborsClassifier(i, metric = 'euclidean')\n",
    "   \n",
    "    # fit the model using 'cross_val_score'\n",
    "    # pass the knn model as 'estimator'\n",
    "    # use 5-fold cross validation\n",
    "    score = cross_val_score(knn, X_train, y_train, cv = 5)\n",
    "    \n",
    "    # calculate the mean score\n",
    "    score = score.mean()\n",
    "    \n",
    "    # compute error rate \n",
    "    error_rate.append(1 - score)\n",
    "\n",
    "# plot the error_rate for different values of K \n",
    "plt.plot(range(1,25,2), error_rate)\n",
    "\n",
    "# add plot and axes labels\n",
    "# set text size using 'fontsize'\n",
    "plt.title('Error Rate', fontsize = 15)\n",
    "plt.xlabel('K', fontsize = 15)\n",
    "plt.ylabel('Error Rate', fontsize = 15)\n",
    "\n",
    "# set the x-axis labels\n",
    "plt.xticks(np.arange(1, 25, step = 2))\n",
    "\n",
    "# plot a vertical line across the minimum error rate\n",
    "plt.axvline(x = 3, color = 'red')\n",
    "\n",
    "# display the plot\n",
    "plt.show()"
   ]
  },
  {
   "cell_type": "markdown",
   "metadata": {
    "id": "Z2Jnr5qvdinz"
   },
   "source": [
    "**Interpretation:** We can see that the optimal value of K (= 1) obtained from the GridSearchCV() results in a lowest error rate. "
   ]
  },
  {
   "cell_type": "markdown",
   "metadata": {
    "id": "CpddNthFdin0"
   },
   "source": [
    "**Calculate performance measures on the test set.**"
   ]
  },
  {
   "cell_type": "code",
   "execution_count": null,
   "metadata": {
    "id": "C8iGD4gtdin0",
    "outputId": "8cccfc20-bd1f-4b2e-fa8e-9bdfa575452e",
    "scrolled": true
   },
   "outputs": [
    {
     "name": "stdout",
     "output_type": "stream",
     "text": [
      "Classification Report for test set: \n",
      "               precision    recall  f1-score   support\n",
      "\n",
      "           0       0.87      0.83      0.85      1133\n",
      "           1       0.55      0.63      0.58       367\n",
      "\n",
      "    accuracy                           0.78      1500\n",
      "   macro avg       0.71      0.73      0.72      1500\n",
      "weighted avg       0.79      0.78      0.79      1500\n",
      "\n"
     ]
    }
   ],
   "source": [
    "# print the performance measures for test set for the model with best parameters\n",
    "# call the function 'get_test_report'\n",
    "# pass the knn model using GridSearch to the function\n",
    "print('Classification Report for test set: \\n', get_test_report(knn_grid))"
   ]
  },
  {
   "cell_type": "markdown",
   "metadata": {
    "id": "toTqQV4Edin2"
   },
   "source": [
    "**Plot the ROC curve.**"
   ]
  },
  {
   "cell_type": "code",
   "execution_count": null,
   "metadata": {
    "id": "Bn-AEKdWdin3",
    "outputId": "d0457542-5318-4306-eb07-a105d5504f33",
    "scrolled": false
   },
   "outputs": [
    {
     "data": {
      "image/png": "[encoded data removed]",
      "text/plain": [
       "<Figure size 432x288 with 1 Axes>"
      ]
     },
     "metadata": {
      "tags": []
     },
     "output_type": "display_data"
    }
   ],
   "source": [
    "# call the function to plot the ROC curve\n",
    "# pass the knn model to the function\n",
    "plot_roc(knn_grid)"
   ]
  },
  {
   "cell_type": "markdown",
   "metadata": {
    "id": "Lk8kWrJWdin4"
   },
   "source": [
    "**Interpretation:** From the above plot, we can see that our classifier (knn_model with n_neighbors = 3) is away from the red dotted line; with the AUC score 0.7295."
   ]
  },
  {
   "cell_type": "markdown",
   "metadata": {
    "id": "O8BPvDCfdin5"
   },
   "source": [
    "## Comparison Between models"
   ]
  },
  {
   "cell_type": "code",
   "execution_count": null,
   "metadata": {
    "id": "1256h3GBdin6"
   },
   "outputs": [],
   "source": [
    "#This is a classical classification problem. F1 score, Precison Recall would be the right metric for evaluation \n",
    "# Oversampling the minority class has increasd the performance of the base model\n",
    "# The key risk in this above method is oversampling as it makes the model to overfit \n",
    "# Using better and heavy classifiers can improve the accuracy, and good amount parameter optimization"
   ]
  },
  {
   "cell_type": "code",
   "execution_count": null,
   "metadata": {
    "id": "9AQHta9ldin7"
   },
   "outputs": [],
   "source": [
    "outcome = []\n",
    "Modelnames = []\n",
    "models = []\n",
    "models.append(('Random Forest Classifier', RandomForestClassifier(n_estimators=50, max_features=4)))\n",
    "models.append(('Decision Tree Classifier', DecisionTreeClassifier()))\n",
    "models.append(('Logistic Regression', LogisticRegression(solver='lbfgs')))\n",
    "models.append(('Naive Bayes', GaussianNB()))\n",
    "models.append(('KNN', KNeighborsClassifier(metric= 'manhattan', n_neighbors= 1)))\n"
   ]
  },
  {
   "cell_type": "markdown",
   "metadata": {
    "id": "vOFmAFyEdin8"
   },
   "source": [
    "## XGBoost Classifier"
   ]
  },
  {
   "cell_type": "code",
   "execution_count": null,
   "metadata": {
    "id": "2BFtsRJidin8",
    "outputId": "2c138c66-7a45-422e-d1db-34d06c07795e"
   },
   "outputs": [
    {
     "name": "stdout",
     "output_type": "stream",
     "text": [
      "Requirement already satisfied: xgboost in c:\\users\\sutithi\\anaconda3\\lib\\site-packages (1.2.1)\n",
      "Requirement already satisfied: scipy in c:\\users\\sutithi\\anaconda3\\lib\\site-packages (from xgboost) (1.5.0)\n",
      "Requirement already satisfied: numpy in c:\\users\\sutithi\\anaconda3\\lib\\site-packages (from xgboost) (1.18.5)\n",
      "Note: you may need to restart the kernel to use updated packages.\n"
     ]
    }
   ],
   "source": [
    "pip install xgboost"
   ]
  },
  {
   "cell_type": "code",
   "execution_count": null,
   "metadata": {
    "id": "UnlE4IkTdin-",
    "outputId": "ba722379-9f38-4ba0-d4dc-6d3541cb8564"
   },
   "outputs": [
    {
     "name": "stdout",
     "output_type": "stream",
     "text": [
      "XGBClassifier: 88.67% (3.54%)\n",
      "Random Forest Classifier: 87.46% (3.25%)\n",
      "Decision Tree Classifier: 83.01% (2.61%)\n",
      "Logistic Regression: 67.46% (4.93%)\n",
      "Naive Bayes: 68.16% (17.39%)\n",
      "KNN: 87.23% (3.54%)\n"
     ]
    }
   ],
   "source": [
    "#from xgboost import XGBClassifier\n",
    "from xgboost.sklearn import XGBClassifier\n",
    "kfoldCV = StratifiedKFold(n_splits=5, random_state=20)\n",
    "xgb_model = XGBClassifier(n_estimators=250)\n",
    "results = cross_val_score(xgb_model, X_train, y_train, cv=kfoldCV)\n",
    "print(\"XGBClassifier: %.2f%% (%.2f%%)\" % (results.mean()*100, results.std()*100))\n",
    "outcome.append(results)\n",
    "Modelnames.append(\"XGBClassifier\")\n",
    "\n",
    "for name, model in models:\n",
    "    kfoldCV = KFold(n_splits=5, random_state=0)\n",
    "    cv_r = cross_val_score(model, X_train, y_train, cv=kfoldCV, scoring='accuracy')\n",
    "    outcome.append(cv_r)\n",
    "    Modelnames.append(name)\n",
    "    print(\"%s: %.2f%% (%.2f%%)\" % (name, cv_r.mean()*100, cv_r.std()*100))"
   ]
  },
  {
   "cell_type": "code",
   "execution_count": null,
   "metadata": {
    "id": "sKtc_1rydin_",
    "outputId": "6da01d8a-5140-4bb6-e381-5c93e033de96"
   },
   "outputs": [
    {
     "data": {
      "text/plain": [
       "<matplotlib.axes._subplots.AxesSubplot at 0x1e870bfa9a0>"
      ]
     },
     "execution_count": 86,
     "metadata": {
      "tags": []
     },
     "output_type": "execute_result"
    },
    {
     "data": {
      "image/png": "[encoded data removed]",
      "text/plain": [
       "<Figure size 1944x720 with 1 Axes>"
      ]
     },
     "metadata": {
      "tags": []
     },
     "output_type": "display_data"
    }
   ],
   "source": [
    "fig, axe = plt.subplots(figsize=(27,10))\n",
    "data1 ={'Names': Modelnames,'Results': outcome}\n",
    "fig.suptitle('Model Accuracy Comparison')\n",
    "current_palette = sns.color_palette(\"RdBu_r\", 7)\n",
    "sns.set_context(\"poster\")\n",
    "sns.boxplot(x='Names',y='Results',data=data1,palette = current_palette)"
   ]
  },
  {
   "cell_type": "markdown",
   "metadata": {
    "id": "ayj3pHiqdioA"
   },
   "source": [
    "* We are getting the accuracy of XGBClassifier: 88.67% "
   ]
  },
  {
   "cell_type": "code",
   "execution_count": null,
   "metadata": {
    "id": "bG_Ir_qmdioC",
    "outputId": "e716efef-40f6-4c04-d8cb-0d8a9fa928be"
   },
   "outputs": [
    {
     "data": {
      "text/plain": [
       "[('Random Forest Classifier',\n",
       "  RandomForestClassifier(max_features=4, n_estimators=50)),\n",
       " ('Decision Tree Classifier', DecisionTreeClassifier()),\n",
       " ('Logistic Regression', LogisticRegression()),\n",
       " ('Naive Bayes', GaussianNB()),\n",
       " ('KNN', KNeighborsClassifier(metric='manhattan', n_neighbors=1))]"
      ]
     },
     "execution_count": 87,
     "metadata": {
      "tags": []
     },
     "output_type": "execute_result"
    }
   ],
   "source": [
    "models"
   ]
  },
  {
   "cell_type": "code",
   "execution_count": null,
   "metadata": {
    "id": "OmPB_JT3dioD"
   },
   "outputs": [],
   "source": [
    "xgb_model = XGBClassifier(n_estimators=250).fit(X_train,y_train)"
   ]
  },
  {
   "cell_type": "code",
   "execution_count": null,
   "metadata": {
    "id": "Hs4N64FydioD",
    "outputId": "a0299618-7f8a-4065-f4b8-a50ecefd87dc"
   },
   "outputs": [
    {
     "name": "stdout",
     "output_type": "stream",
     "text": [
      "              precision    recall  f1-score   support\n",
      "\n",
      "           0       0.89      0.88      0.89      1133\n",
      "           1       0.64      0.68      0.66       367\n",
      "\n",
      "    accuracy                           0.83      1500\n",
      "   macro avg       0.77      0.78      0.77      1500\n",
      "weighted avg       0.83      0.83      0.83      1500\n",
      "\n",
      "0.8293333333333334\n"
     ]
    }
   ],
   "source": [
    "# Let's check the evaluation metrics of our default model\n",
    "\n",
    "# Importing classification report and confusion matrix from sklearn metrics\n",
    "from sklearn.metrics import classification_report, confusion_matrix, accuracy_score\n",
    "\n",
    "# Making predictions\n",
    "y_pred_default = xgb_model.predict(X_test)\n",
    "\n",
    "# Printing classification report\n",
    "print(classification_report(y_test, y_pred_default))\n",
    "print(accuracy_score(y_test, y_pred_default))"
   ]
  },
  {
   "cell_type": "markdown",
   "metadata": {
    "id": "y5Uf4rSHdioE"
   },
   "source": [
    "##### The GradentBoost algorithm seems to perform the best for the dataset\n",
    "\n",
    "##### The accuracy of the model is .83\n",
    "\n",
    "#####  The average precision is .83\n",
    "\n",
    "#####  The average recall is .83\n",
    "\n",
    "#####  The average F1 is .83\n",
    "\n",
    "#####  Which implies that the model is a good fit."
   ]
  },
  {
   "cell_type": "code",
   "execution_count": null,
   "metadata": {
    "id": "4IY4wyFKdioG"
   },
   "outputs": [],
   "source": [
    "feature_importances = pd.DataFrame(xgb_model.feature_importances_,\n",
    "                                   index = X_train.columns,\n",
    "                                    columns=['importance']).sort_values('importance', ascending=False)"
   ]
  },
  {
   "cell_type": "code",
   "execution_count": null,
   "metadata": {
    "id": "jQgSpJbqdioH",
    "outputId": "b6fed364-b9ad-4f05-8f5b-e92b87735f57"
   },
   "outputs": [
    {
     "data": {
      "text/html": [
       "<div>\n",
       "<style scoped>\n",
       "    .dataframe tbody tr th:only-of-type {\n",
       "        vertical-align: middle;\n",
       "    }\n",
       "\n",
       "    .dataframe tbody tr th {\n",
       "        vertical-align: top;\n",
       "    }\n",
       "\n",
       "    .dataframe thead th {\n",
       "        text-align: right;\n",
       "    }\n",
       "</style>\n",
       "<table border=\"1\" class=\"dataframe\">\n",
       "  <thead>\n",
       "    <tr style=\"text-align: right;\">\n",
       "      <th></th>\n",
       "      <th>importance</th>\n",
       "    </tr>\n",
       "  </thead>\n",
       "  <tbody>\n",
       "    <tr>\n",
       "      <th>relationship1</th>\n",
       "      <td>0.288539</td>\n",
       "    </tr>\n",
       "    <tr>\n",
       "      <th>marital-status2</th>\n",
       "      <td>0.192690</td>\n",
       "    </tr>\n",
       "    <tr>\n",
       "      <th>capital-gain</th>\n",
       "      <td>0.159599</td>\n",
       "    </tr>\n",
       "    <tr>\n",
       "      <th>capital-loss</th>\n",
       "      <td>0.056726</td>\n",
       "    </tr>\n",
       "    <tr>\n",
       "      <th>sex</th>\n",
       "      <td>0.046149</td>\n",
       "    </tr>\n",
       "    <tr>\n",
       "      <th>education1</th>\n",
       "      <td>0.044976</td>\n",
       "    </tr>\n",
       "    <tr>\n",
       "      <th>education-num</th>\n",
       "      <td>0.043837</td>\n",
       "    </tr>\n",
       "    <tr>\n",
       "      <th>workclass1</th>\n",
       "      <td>0.034053</td>\n",
       "    </tr>\n",
       "    <tr>\n",
       "      <th>hours-per-week</th>\n",
       "      <td>0.029692</td>\n",
       "    </tr>\n",
       "    <tr>\n",
       "      <th>race1</th>\n",
       "      <td>0.029291</td>\n",
       "    </tr>\n",
       "    <tr>\n",
       "      <th>age</th>\n",
       "      <td>0.027026</td>\n",
       "    </tr>\n",
       "    <tr>\n",
       "      <th>occupation1</th>\n",
       "      <td>0.025810</td>\n",
       "    </tr>\n",
       "    <tr>\n",
       "      <th>native-country1</th>\n",
       "      <td>0.021611</td>\n",
       "    </tr>\n",
       "  </tbody>\n",
       "</table>\n",
       "</div>"
      ],
      "text/plain": [
       "                 importance\n",
       "relationship1      0.288539\n",
       "marital-status2    0.192690\n",
       "capital-gain       0.159599\n",
       "capital-loss       0.056726\n",
       "sex                0.046149\n",
       "education1         0.044976\n",
       "education-num      0.043837\n",
       "workclass1         0.034053\n",
       "hours-per-week     0.029692\n",
       "race1              0.029291\n",
       "age                0.027026\n",
       "occupation1        0.025810\n",
       "native-country1    0.021611"
      ]
     },
     "execution_count": 92,
     "metadata": {
      "tags": []
     },
     "output_type": "execute_result"
    }
   ],
   "source": [
    "feature_importances "
   ]
  },
  {
   "cell_type": "code",
   "execution_count": null,
   "metadata": {
    "id": "lomhnhCfdioI",
    "outputId": "e7d7608a-c2f3-41fc-da25-a7988202ce32"
   },
   "outputs": [
    {
     "data": {
      "image/png": "[encoded data removed]",
      "text/plain": [
       "<Figure size 432x288 with 1 Axes>"
      ]
     },
     "metadata": {
      "tags": []
     },
     "output_type": "display_data"
    }
   ],
   "source": [
    "sns.distplot(dataset[dataset.Expense == 0]['marital-status2'] , color = 'r',label = '>50K')\n",
    "sns.distplot(dataset[dataset.Expense == 1]['marital-status2'] , color = 'g',label = '<=50K')\n",
    "plt.legend()\n",
    "plt.show()"
   ]
  },
  {
   "cell_type": "code",
   "execution_count": null,
   "metadata": {
    "id": "8mcz6zFWdioK",
    "outputId": "b4972fe9-911b-4f7b-c0ec-73f94d89d0d6"
   },
   "outputs": [
    {
     "data": {
      "image/png": "[encoded data removed]",
      "text/plain": [
       "<Figure size 432x288 with 1 Axes>"
      ]
     },
     "metadata": {
      "tags": []
     },
     "output_type": "display_data"
    }
   ],
   "source": [
    "sns.distplot(dataset[dataset.Expense == 0].age , color = 'r',label = '>50K')\n",
    "sns.distplot(dataset[dataset.Expense == 1].age , color = 'g',label = '<=50K')\n",
    "plt.legend()\n",
    "plt.show()"
   ]
  },
  {
   "cell_type": "code",
   "execution_count": null,
   "metadata": {
    "id": "Idi2wFecdioL",
    "outputId": "8ecfca59-2ac2-4747-ba3c-1732ebdd3647",
    "scrolled": false
   },
   "outputs": [
    {
     "data": {
      "image/png": "[encoded data removed]",
      "text/plain": [
       "<Figure size 1440x360 with 1 Axes>"
      ]
     },
     "metadata": {
      "tags": []
     },
     "output_type": "display_data"
    }
   ],
   "source": [
    "plt.figure(figsize=(20,5))\n",
    "sns.distplot(dataset[dataset.Expense == 0]['relationship1'] , color = 'r',label = '>50K')\n",
    "sns.distplot(dataset[dataset.Expense == 1]['relationship1'], color = 'g',label = '<=50K')\n",
    "plt.title('Distribution plot for different type of relationship for >50K & <=50K')\n",
    "plt.legend()\n",
    "plt.show()"
   ]
  },
  {
   "cell_type": "markdown",
   "metadata": {
    "id": "fytkiVqbdioM"
   },
   "source": [
    "### Conclussion :  \n",
    "\n",
    " `Relationship` ,`marital-status2`, `capital-gain` & `capital.loss`  have the most inpact the consumption segregation of >50K & <=50K as 28% , 19% , 15% & 5% respectively\n",
    "\n",
    "Majority of the Married people have are more likely to belong to the >50K type.Where as single people are more likely to belong to <=50K type.\n",
    "\n",
    "\n",
    "People with age greater than 40 are more likely to belong to the >50K type.Where as people with age less than 40 are more likely to belong to <=50K type.\n",
    "\n",
    "People with `Own-child` (index 0) and `Wife`(index 5) relationship indices are more likely to belong to the >50K type.Where as People with `Other-relative`(index 1),`Not-in-family` (index 3) and `Husband` (index 4) relationship indices are more likely to belong to <=50K type.\n"
   ]
  },
  {
   "cell_type": "code",
   "execution_count": null,
   "metadata": {
    "id": "Z5Rp00pZdioN"
   },
   "outputs": [],
   "source": []
  }
 ],
 "metadata": {
  "colab": {
   "name": "SLC.ipynb",
   "provenance": []
  },
  "kernelspec": {
   "display_name": "Python 3",
   "language": "python",
   "name": "python3"
  },
  "language_info": {
   "codemirror_mode": {
    "name": "ipython",
    "version": 3
   },
   "file_extension": ".py",
   "mimetype": "text/x-python",
   "name": "python",
   "nbconvert_exporter": "python",
   "pygments_lexer": "ipython3",
   "version": "3.8.5"
  }
 },
 "nbformat": 4,
 "nbformat_minor": 1
}
